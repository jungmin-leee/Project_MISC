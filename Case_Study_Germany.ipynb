{
 "cells": [
  {
   "cell_type": "markdown",
   "metadata": {},
   "source": [
    "# CASE STUDY"
   ]
  },
  {
   "cell_type": "markdown",
   "metadata": {},
   "source": [
    "## CODE"
   ]
  },
  {
   "cell_type": "markdown",
   "metadata": {},
   "source": [
    "### 1)Import Packages"
   ]
  },
  {
   "cell_type": "code",
   "execution_count": null,
   "metadata": {},
   "outputs": [],
   "source": [
    "import pypsa\n",
    "import pandapower as pp\n",
    "import os\n",
    "import matplotlib.pyplot as plt\n",
    "import numpy as np\n",
    "import pandas as pd\n",
    "import cartopy.crs as ccrs\n",
    "import warnings\n",
    "import subprocess\n",
    "from shapely.errors import ShapelyDeprecationWarning\n",
    "import logging\n",
    "\n",
    "warnings.filterwarnings(\"ignore\", category=ShapelyDeprecationWarning)\n",
    "warnings.filterwarnings(\"ignore\", category=FutureWarning)\n",
    "logging.getLogger(\"pypsa.pf\").setLevel(logging.WARNING)\n",
    "plt.rc(\"figure\", figsize=(10, 8))"
   ]
  },
  {
   "cell_type": "code",
   "execution_count": null,
   "metadata": {},
   "outputs": [],
   "source": [
    "#os.chdir(\"C:\\Users\\82103\\Documents\\Market Integration and Sector Coupling\\pypsa\\CASE STUDYexercise_0126\")\n",
    "excel_file_path = \"C:\\\\Users\\\\82103\\\\Documents\\\\Market Integration and Sector Coupling\\\\pypsa\\\\TEST\\\\data_Germany.xlsx\""
   ]
  },
  {
   "cell_type": "markdown",
   "metadata": {},
   "source": [
    "### 2)Create a network and set Snapshots"
   ]
  },
  {
   "cell_type": "code",
   "execution_count": null,
   "metadata": {},
   "outputs": [],
   "source": [
    "# Create a new PyPSA network\n",
    "network= pypsa.Network()\n",
    "network.set_snapshots(range(8760))  # Solve for a year 365*24"
   ]
  },
  {
   "cell_type": "markdown",
   "metadata": {},
   "source": [
    "### 3)Add Buses"
   ]
  },
  {
   "cell_type": "code",
   "execution_count": null,
   "metadata": {},
   "outputs": [],
   "source": [
    "# Read excel file which contains Non renewable generators data\n",
    "bus_data = pd.read_excel(excel_file_path, sheet_name='buses')"
   ]
  },
  {
   "cell_type": "code",
   "execution_count": null,
   "metadata": {},
   "outputs": [],
   "source": [
    "for index,row in bus_data.iterrows():\n",
    "    network.add(\n",
    "    \"Bus\",\n",
    "    name=row['bus'],\n",
    "    v_nom=row['v_nom'],\n",
    "    carrier=row['carrier'],\n",
    "    x=row['x'],\n",
    "    y=row['y']\n",
    ")\n",
    "    \n",
    "network.buses"
   ]
  },
  {
   "cell_type": "markdown",
   "metadata": {},
   "source": [
    "### 4)Add generators"
   ]
  },
  {
   "cell_type": "code",
   "execution_count": null,
   "metadata": {},
   "outputs": [],
   "source": [
    "generators = pd.read_excel(excel_file_path,sheet_name=\"generators\" )\n",
    "\n",
    "network.madd(\n",
    "\"Generator\",\n",
    "    names= generators.generator,\n",
    "    bus=list(generators.bus),\n",
    "    carrier=list(generators.carrier),\n",
    "    p_nom=list(generators.p_nom),      \n",
    "    p_nom_max=list(generators.p_nom_A),     \n",
    "    #p_nom_max=list(generators.p_nom_B),    \n",
    "    #p_nom_max=list(generators.p_nom_C),    \n",
    "    p_nom_extendable=list(generators.p_nom_extandable),\n",
    "    marginal_cost=list(generators.marginal_cost),\n",
    "    efficiency=list(generators.efficiency),\n",
    "    capital_cost=list(generators.capital_cost)\n",
    "    ) \n",
    "\n",
    "network.generators"
   ]
  },
  {
   "cell_type": "code",
   "execution_count": null,
   "metadata": {},
   "outputs": [],
   "source": [
    "PV_timeseries=pd.read_excel(excel_file_path,sheet_name='PV_timeseries')\n",
    "wind_timeseries=pd.read_excel(excel_file_path,sheet_name='wind_timeseries')"
   ]
  },
  {
   "cell_type": "code",
   "execution_count": null,
   "metadata": {},
   "outputs": [],
   "source": [
    "network.generators_t.p_max_pu[\"50_Solar\"] = list(PV_timeseries.p_nom_pu_solar_50Hertz)\n",
    "network.generators_t.p_max_pu[\"50_Offshore Wind\"] = list(wind_timeseries.p_nom_pu_offshore_50Hertz)\n",
    "network.generators_t.p_max_pu[\"50_Onshore Wind\"] = list(wind_timeseries.p_nom_pu_onshore_50Hertz)\n",
    "\n",
    "network.generators_t.p_max_pu[\"A_Solar\"] = list(PV_timeseries.p_nom_pu_solar_Amprion)\n",
    "network.generators_t.p_max_pu[\"A_Onshore Wind\"] = list(wind_timeseries.p_nom_pu_Amprion)\n",
    "\n",
    "network.generators_t.p_max_pu[\"TBW_Solar\"] = list(PV_timeseries.p_nom_pu_TransnetBW)\n",
    "network.generators_t.p_max_pu[\"TBW_Onshore Wind\"] = list(wind_timeseries.p_nom_pu_TransnetBW)\n",
    "\n",
    "network.generators_t.p_max_pu[\"Ten_Solar\"] = list(PV_timeseries.p_nom_pu_solar_Tennet)\n",
    "network.generators_t.p_max_pu[\"Ten_Offshore Wind\"] = list(wind_timeseries.p_nom_pu_offshore_Tennet)\n",
    "network.generators_t.p_max_pu[\"Ten_Onshore Wind\"] = list(wind_timeseries.p_nom_pu_onshore_Tennet)"
   ]
  },
  {
   "cell_type": "markdown",
   "metadata": {},
   "source": [
    "### 5)Add load"
   ]
  },
  {
   "cell_type": "markdown",
   "metadata": {},
   "source": [
    "### Added by Parag"
   ]
  },
  {
   "cell_type": "code",
   "execution_count": null,
   "metadata": {},
   "outputs": [],
   "source": [
    "'''\n",
    "You can add your all loads in a timeseries in columns and add load using network.add function like mentioned in the following code:\n",
    "To verify whether the timeseries of the load data (p_set) is added properly, use:  `network.loads_t.p_set`  this command\n",
    "'''\n",
    "\n",
    "\"\"\"\n",
    "# Read excel file which contains Non renewable generators data\n",
    "def add_consumers(filename, index_col):\n",
    "    try:\n",
    "        load = pd.read_(filename,index_col=index_col)\n",
    "    except pd.errors.EmptyDataError:\n",
    "        print(\"The CSV file is empty.\")\n",
    "        return\n",
    "\n",
    "    for load_name in list(load.columns.unique()):\n",
    "        network.add(\"Load\",\n",
    "        f\"{load_name}\",\n",
    "        bus=load_name,\n",
    "        p_set=load[load_name].tolist()\n",
    "        )\n",
    "\n",
    "    return network.loads_t.p_set.head(5)    \n",
    "\"\"\""
   ]
  },
  {
   "cell_type": "code",
   "execution_count": null,
   "metadata": {},
   "outputs": [],
   "source": [
    "demand = pd.read_excel(excel_file_path,sheet_name=\"load_hourly\" )\n",
    "'''\n",
    "network.add(\"Load\", \"Amprion\", bus=\"Amprion\", p_set=demand[\"Amprion\"])\n",
    "network.add(\"Load\", \"Tennet\", bus=\"Tennet\", p_set=demand[\"TenneT\"])\n",
    "network.add(\"Load\", \"TransnetBW\", bus=\"TransnetBW\", p_set=demand[\"TransnetBW\"])\n",
    "network.add(\"Load\", \"50Hertz\", bus=\"50Hertz\", p_set=demand[\"50Hertz\"])\n",
    "'''\n",
    "#'''Scenario A\n",
    "network.add(\"Load\", \"Amprion\", bus=\"Amprion\", p_set=demand[\"load_A_Amprion\"])\n",
    "network.add(\"Load\", \"Tennet\", bus=\"Tennet\", p_set=demand[\"load_A_TenneT\"])\n",
    "network.add(\"Load\", \"TransnetBW\", bus=\"TransnetBW\", p_set=demand[\"load_A_TransnetBW\"])\n",
    "network.add(\"Load\", \"50Hertz\", bus=\"50Hertz\", p_set=demand[\"load_A_50Hertz\"])\n",
    "#'''\n",
    "\n",
    "'''Scenario B\n",
    "network.add(\"Load\", \"Amprion\", bus=\"Amprion\", p_set=demand[\"load_B_Amprion\"])\n",
    "network.add(\"Load\", \"Tennet\", bus=\"Tennet\", p_set=demand[\"load_B_TenneT\"])\n",
    "network.add(\"Load\", \"TransnetBW\", bus=\"TransnetBW\", p_set=demand[\"load_B_TransnetBW\"])\n",
    "network.add(\"Load\", \"50Hertz\", bus=\"50Hertz\", p_set=demand[\"load_B_50Hertz\"])\n",
    "'''\n",
    "\n",
    "'''Scenario C\n",
    "network.add(\"Load\", \"Amprion\", bus=\"Amprion\", p_set=demand[\"load_C_Amprion\"])\n",
    "network.add(\"Load\", \"Tennet\", bus=\"Tennet\", p_set=demand[\"load_C_TenneT\"])\n",
    "network.add(\"Load\", \"TransnetBW\", bus=\"TransnetBW\", p_set=demand[\"load_C_TransnetBW\"])\n",
    "network.add(\"Load\", \"50Hertz\", bus=\"50Hertz\", p_set=demand[\"load_C_50Hertz\"])\n",
    "'''"
   ]
  },
  {
   "cell_type": "code",
   "execution_count": null,
   "metadata": {},
   "outputs": [],
   "source": [
    "network.loads_t.p_set.plot(figsize=(9,3), ylabel=\"MW\")"
   ]
  },
  {
   "cell_type": "markdown",
   "metadata": {},
   "source": [
    "### 6)Add Lines"
   ]
  },
  {
   "cell_type": "code",
   "execution_count": null,
   "metadata": {},
   "outputs": [],
   "source": [
    "lines=pd.read_excel(excel_file_path,sheet_name='lines',header=0)\n",
    "lines.head()"
   ]
  },
  {
   "cell_type": "code",
   "execution_count": null,
   "metadata": {},
   "outputs": [],
   "source": [
    "for X, row in lines.iterrows():\n",
    "    network.add(\"Line\",\n",
    "    name=row['name'],\n",
    "    bus0=row['bus0'],\n",
    "    bus1=row['bus1'],\n",
    "    s_nom=row['s_nom'],\n",
    "    x=row['efficiency'],\n",
    "    s_nom_extendable=row['s_nom_extendable'] \n",
    "    )\n",
    "network.lines"
   ]
  },
  {
   "cell_type": "markdown",
   "metadata": {},
   "source": [
    "### 7)Add links"
   ]
  },
  {
   "cell_type": "markdown",
   "metadata": {},
   "source": [
    "links = pd.read_excel(excel_file_path, sheet_name='links')\n",
    "links.head()"
   ]
  },
  {
   "cell_type": "markdown",
   "metadata": {},
   "source": [
    "for X, row in links.iterrows():\n",
    "    network.add(\"Link\",\n",
    "    name=row['name'],\n",
    "    bus0=row['bus0'],\n",
    "    bus1=row['bus1'],\n",
    "    p_nom=row['p_nom'],\n",
    "    p_nom_extendable=row['p_nom_extendable'],\n",
    "    efficiency=row['efficiency'],\n",
    "    capital_cost=row['capital_cost'] )\n",
    "network.links"
   ]
  },
  {
   "cell_type": "markdown",
   "metadata": {},
   "source": [
    "### 8)Add carriers"
   ]
  },
  {
   "cell_type": "code",
   "execution_count": null,
   "metadata": {},
   "outputs": [],
   "source": [
    "Carriers = pd.read_excel(excel_file_path,sheet_name=\"co2_emissions\" )\n",
    "Carriers.tail()"
   ]
  },
  {
   "cell_type": "code",
   "execution_count": null,
   "metadata": {},
   "outputs": [],
   "source": [
    "for X, row in Carriers.iterrows():\n",
    "    network.add(\n",
    "        \"Carrier\",\n",
    "        name=row['name'],\n",
    "        co2_emissions=row['co2_emissions']\n",
    "    )\n",
    "network.carriers"
   ]
  },
  {
   "cell_type": "code",
   "execution_count": null,
   "metadata": {},
   "outputs": [],
   "source": [
    "network.add(\"Store\", \"battery storage1\", bus=\"50Hertz\", e_cyclic=True, e_nom=10000000.0)\n",
    "network.add(\"Store\", \"battery storage2\", bus=\"Amprion\", e_cyclic=True, e_nom=10000000.0)\n",
    "network.add(\"Store\", \"battery storage3\", bus=\"Tennet\", e_cyclic=True, e_nom=10000000.0)\n",
    "network.add(\"Store\", \"battery storage4\", bus=\"TransnetBW\", e_cyclic=True, e_nom=10000000.0)"
   ]
  },
  {
   "cell_type": "code",
   "execution_count": null,
   "metadata": {},
   "outputs": [],
   "source": [
    "network.add(\n",
    "    \"StorageUnit\",\n",
    "    \"battery storage1\",\n",
    "    bus=\"50Hertz\",\n",
    "    p_nom=100000000,\n",
    "    max_hours=10,  # energy storage in terms of hours at full power\n",
    ")"
   ]
  },
  {
   "cell_type": "code",
   "execution_count": null,
   "metadata": {},
   "outputs": [],
   "source": [
    "network.add(\n",
    "    \"StorageUnit\",\n",
    "    \"battery storage2\",\n",
    "    bus=\"Amprion\",\n",
    "    p_nom=100000000,\n",
    "    max_hours=10,  # energy storage in terms of hours at full power\n",
    ")"
   ]
  },
  {
   "cell_type": "code",
   "execution_count": null,
   "metadata": {},
   "outputs": [],
   "source": [
    "network.add(\n",
    "    \"StorageUnit\",\n",
    "    \"battery storage3\",\n",
    "    bus=\"Tennet\",\n",
    "    p_nom=100000000,\n",
    "    max_hours=10,  # energy storage in terms of hours at full power\n",
    ")"
   ]
  },
  {
   "cell_type": "code",
   "execution_count": null,
   "metadata": {},
   "outputs": [],
   "source": [
    "network.add(\n",
    "    \"StorageUnit\",\n",
    "    \"battery storage4\",\n",
    "    bus=\"TransnetBW\",\n",
    "    p_nom=100000000,\n",
    "    max_hours=10,  # energy storage in terms of hours at full power\n",
    ")"
   ]
  },
  {
   "cell_type": "markdown",
   "metadata": {},
   "source": [
    "### 9)CO2 emissions"
   ]
  },
  {
   "cell_type": "markdown",
   "metadata": {},
   "source": [
    "network.add(\"GlobalConstraint\", \"co2_limit\", sense=\"<=\", constant=438000000)"
   ]
  },
  {
   "cell_type": "markdown",
   "metadata": {},
   "source": [
    "## RESULTS"
   ]
  },
  {
   "cell_type": "markdown",
   "metadata": {},
   "source": [
    "### 1)Optimize"
   ]
  },
  {
   "cell_type": "code",
   "execution_count": null,
   "metadata": {},
   "outputs": [],
   "source": [
    "network.optimize(solver_name='glpk')"
   ]
  },
  {
   "cell_type": "markdown",
   "metadata": {},
   "source": [
    "### 2)Margianl price"
   ]
  },
  {
   "cell_type": "code",
   "execution_count": null,
   "metadata": {},
   "outputs": [],
   "source": [
    "network.buses_t.marginal_price"
   ]
  },
  {
   "cell_type": "code",
   "execution_count": null,
   "metadata": {},
   "outputs": [],
   "source": [
    "network.generators.p_nom_opt.plot.bar(ylabel=\"MW\", figsize=(8, 3))"
   ]
  },
  {
   "cell_type": "code",
   "execution_count": null,
   "metadata": {},
   "outputs": [],
   "source": [
    "network.generators_t.p.sum().plot.bar(ylabel=\"Total generation MW\")"
   ]
  },
  {
   "cell_type": "markdown",
   "metadata": {},
   "source": [
    "### 3)Lines snapshot"
   ]
  },
  {
   "cell_type": "code",
   "execution_count": null,
   "metadata": {},
   "outputs": [],
   "source": [
    "network.lines_t.p0"
   ]
  },
  {
   "cell_type": "markdown",
   "metadata": {},
   "source": [
    "### 4)Gen assign"
   ]
  },
  {
   "cell_type": "code",
   "execution_count": null,
   "metadata": {},
   "outputs": [],
   "source": [
    "gen = network.generators.assign(g=network.generators_t.p.mean()).groupby([\"bus\", \"carrier\"]).g.sum()\n",
    "gen"
   ]
  },
  {
   "cell_type": "markdown",
   "metadata": {},
   "source": [
    "### 5)Flow"
   ]
  },
  {
   "cell_type": "code",
   "execution_count": null,
   "metadata": {},
   "outputs": [],
   "source": [
    "flow = pd.Series(10, index=network.branches().index)\n",
    "flow"
   ]
  },
  {
   "cell_type": "markdown",
   "metadata": {},
   "source": [
    "### 6)Geo. graph"
   ]
  },
  {
   "cell_type": "code",
   "execution_count": null,
   "metadata": {},
   "outputs": [],
   "source": [
    "plot_graph=network.plot(\n",
    "    bus_sizes=gen/20000,\n",
    "    bus_colors={\"biomass\":\"black\",\"coal\":\"blue\",\"gas\":\"pink\",\"hydro\":\"cadetblue\",\"lignite\":\"yellow\",\"solar\":\"orange\",\"wind\":\"midnightblue\"},\n",
    "    margin=1,\n",
    "    line_widths=3,\n",
    "    link_widths=0,\n",
    "    flow=flow,\n",
    "    color_geomap=True,\n",
    "    projection=ccrs.EqualEarth(),\n",
    "    line_colors=network.lines_t.p0.mean().abs(),\n",
    ")\n",
    "plt.colorbar(plot_graph[2], fraction=0.04, pad=0.004, label=\"Flow in MW\")\n",
    "plt.show()"
   ]
  },
  {
   "cell_type": "code",
   "execution_count": null,
   "metadata": {},
   "outputs": [],
   "source": [
    "# Your DataFrame df\n",
    "df = pd.concat(\n",
    "    [\n",
    "        network.generators_t.p.loc[0],\n",
    "        network.links_t.p0.loc[0],\n",
    "        network.loads_t.p.loc[0],\n",
    "    ],\n",
    "    keys=[\"Generators\", \"Links\", \"Line\"],\n",
    "    names=[\"Component\", \"index\"],\n",
    ").reset_index(name=\"Production\")\n",
    "\n",
    "# Plotting using PyPSA\n",
    "fig, ax = plt.subplots(figsize=(50, 10))\n",
    "\n",
    "# Plot generators\n",
    "df_generators = df[df[\"Component\"] == \"Generators\"]\n",
    "ax.bar(df_generators[\"index\"], df_generators[\"Production\"], label=\"Generators\")\n",
    "\n",
    "# Plot links\n",
    "df_links = df[df[\"Component\"] == \"Links\"]\n",
    "ax.bar(df_links[\"index\"], df_links[\"Production\"], label=\"Links\")\n",
    "\n",
    "# Plot loads\n",
    "df_loads = df[df[\"Component\"] == \"Line\"]\n",
    "ax.bar(df_loads[\"index\"], df_loads[\"Production\"], label=\"Line\")\n",
    "\n",
    "# Customize the plot\n",
    "ax.set_xlabel(\"Component\")\n",
    "ax.set_ylabel(\"Production (MW)\")\n",
    "ax.set_title(\"Power Production by Component\")\n",
    "ax.legend()\n",
    "\n",
    "# Show the plot\n",
    "plt.show()\n"
   ]
  },
  {
   "cell_type": "markdown",
   "metadata": {},
   "source": [
    "## ADDITIONAL"
   ]
  },
  {
   "cell_type": "markdown",
   "metadata": {},
   "source": [
    "### -)Storages"
   ]
  },
  {
   "cell_type": "code",
   "execution_count": null,
   "metadata": {},
   "outputs": [],
   "source": [
    "\"\"\"\n",
    "def add_stores(filename, header):\n",
    "    try:\n",
    "        stores = pd.read_csv(filename, header=header)\n",
    "    except pd.errors.EmptyDataError:\n",
    "        print(\"The CSV file is empty.\")\n",
    "        return\n",
    "        \n",
    "    for index, row in stores.iterrows():\n",
    "        network.add(\n",
    "            \"Store\",\n",
    "            name=row['name'],\n",
    "            e_initial=row['e_initial'],\n",
    "            e_nom=row['e_nom'],\n",
    "            marginal_cost=row['marginal_cost'],\n",
    "            bus=row['bus'],\n",
    "            e_cyclic=row['e_cyclic'],\n",
    "            e_nom_extendable=row['e_nom_extendable'],\n",
    "        )\n",
    "    return network.stores\n",
    "\"\"\""
   ]
  },
  {
   "cell_type": "markdown",
   "metadata": {},
   "source": [
    "add_stores('stores.csv',0)"
   ]
  },
  {
   "cell_type": "markdown",
   "metadata": {},
   "source": [
    "### -)Global constraints"
   ]
  },
  {
   "cell_type": "code",
   "execution_count": null,
   "metadata": {},
   "outputs": [],
   "source": []
  },
  {
   "cell_type": "code",
   "execution_count": null,
   "metadata": {},
   "outputs": [],
   "source": [
    "#network.lopf()"
   ]
  }
 ],
 "metadata": {
  "@webio": {
   "lastCommId": null,
   "lastKernelId": null
  },
  "kernelspec": {
   "display_name": "Python 3.11.6 ('PyPSA')",
   "language": "python",
   "name": "python3"
  },
  "language_info": {
   "codemirror_mode": {
    "name": "ipython",
    "version": 3
   },
   "file_extension": ".py",
   "mimetype": "text/x-python",
   "name": "python",
   "nbconvert_exporter": "python",
   "pygments_lexer": "ipython3",
   "version": "3.11.5"
  },
  "vscode": {
   "interpreter": {
    "hash": "9362ac2cf2c17960d79fda7a8ec755c04e96fd0061c81d467f9ff311b94f59c5"
   }
  }
 },
 "nbformat": 4,
 "nbformat_minor": 1
}
