{
 "cells": [
  {
   "cell_type": "markdown",
   "metadata": {},
   "source": [
    "# CASE STUDY"
   ]
  },
  {
   "cell_type": "markdown",
   "metadata": {},
   "source": [
    "## CODE"
   ]
  },
  {
   "cell_type": "markdown",
   "metadata": {},
   "source": [
    "### 1)Import Packages"
   ]
  },
  {
   "cell_type": "code",
   "execution_count": 1,
   "metadata": {},
   "outputs": [
    {
     "ename": "KeyboardInterrupt",
     "evalue": "",
     "output_type": "error",
     "traceback": [
      "\u001b[1;31m---------------------------------------------------------------------------\u001b[0m",
      "\u001b[1;31mKeyboardInterrupt\u001b[0m                         Traceback (most recent call last)",
      "Cell \u001b[1;32mIn[1], line 1\u001b[0m\n\u001b[1;32m----> 1\u001b[0m \u001b[38;5;28;01mimport\u001b[39;00m \u001b[38;5;21;01mpypsa\u001b[39;00m\n\u001b[0;32m      2\u001b[0m \u001b[38;5;28;01mimport\u001b[39;00m \u001b[38;5;21;01mos\u001b[39;00m\n\u001b[0;32m      3\u001b[0m \u001b[38;5;28;01mimport\u001b[39;00m \u001b[38;5;21;01mmatplotlib\u001b[39;00m\u001b[38;5;21;01m.\u001b[39;00m\u001b[38;5;21;01mpyplot\u001b[39;00m \u001b[38;5;28;01mas\u001b[39;00m \u001b[38;5;21;01mplt\u001b[39;00m\n",
      "File \u001b[1;32mc:\\Users\\dell\\.conda\\envs\\pypsa-eur\\Lib\\site-packages\\pypsa\\__init__.py:8\u001b[0m\n\u001b[0;32m      1\u001b[0m \u001b[38;5;66;03m# -*- coding: utf-8 -*-\u001b[39;00m\n\u001b[0;32m      2\u001b[0m \u001b[38;5;124;03m\"\"\"\u001b[39;00m\n\u001b[0;32m      3\u001b[0m \u001b[38;5;124;03mPython for Power Systems Analysis (PyPSA)\u001b[39;00m\n\u001b[0;32m      4\u001b[0m \n\u001b[0;32m      5\u001b[0m \u001b[38;5;124;03mEnergy system modelling library.\u001b[39;00m\n\u001b[0;32m      6\u001b[0m \u001b[38;5;124;03m\"\"\"\u001b[39;00m\n\u001b[1;32m----> 8\u001b[0m \u001b[38;5;28;01mfrom\u001b[39;00m \u001b[38;5;21;01mpypsa\u001b[39;00m \u001b[38;5;28;01mimport\u001b[39;00m (\n\u001b[0;32m      9\u001b[0m     clustering,\n\u001b[0;32m     10\u001b[0m     components,\n\u001b[0;32m     11\u001b[0m     contingency,\n\u001b[0;32m     12\u001b[0m     descriptors,\n\u001b[0;32m     13\u001b[0m     examples,\n\u001b[0;32m     14\u001b[0m     geo,\n\u001b[0;32m     15\u001b[0m     io,\n\u001b[0;32m     16\u001b[0m     linopf,\n\u001b[0;32m     17\u001b[0m     linopt,\n\u001b[0;32m     18\u001b[0m     opf,\n\u001b[0;32m     19\u001b[0m     opt,\n\u001b[0;32m     20\u001b[0m     optimization,\n\u001b[0;32m     21\u001b[0m     pf,\n\u001b[0;32m     22\u001b[0m     plot,\n\u001b[0;32m     23\u001b[0m     statistics,\n\u001b[0;32m     24\u001b[0m )\n\u001b[0;32m     25\u001b[0m \u001b[38;5;28;01mfrom\u001b[39;00m \u001b[38;5;21;01mpypsa\u001b[39;00m\u001b[38;5;21;01m.\u001b[39;00m\u001b[38;5;21;01mcomponents\u001b[39;00m \u001b[38;5;28;01mimport\u001b[39;00m Network, SubNetwork\n\u001b[0;32m     27\u001b[0m __version__ \u001b[38;5;241m=\u001b[39m \u001b[38;5;124m\"\u001b[39m\u001b[38;5;124m0.26.3\u001b[39m\u001b[38;5;124m\"\u001b[39m\n",
      "File \u001b[1;32mc:\\Users\\dell\\.conda\\envs\\pypsa-eur\\Lib\\site-packages\\pypsa\\components.py:72\u001b[0m\n\u001b[0;32m     58\u001b[0m \u001b[38;5;28;01mfrom\u001b[39;00m \u001b[38;5;21;01mpypsa\u001b[39;00m\u001b[38;5;21;01m.\u001b[39;00m\u001b[38;5;21;01moptimization\u001b[39;00m\u001b[38;5;21;01m.\u001b[39;00m\u001b[38;5;21;01moptimize\u001b[39;00m \u001b[38;5;28;01mimport\u001b[39;00m OptimizationAccessor\n\u001b[0;32m     59\u001b[0m \u001b[38;5;28;01mfrom\u001b[39;00m \u001b[38;5;21;01mpypsa\u001b[39;00m\u001b[38;5;21;01m.\u001b[39;00m\u001b[38;5;21;01mpf\u001b[39;00m \u001b[38;5;28;01mimport\u001b[39;00m (\n\u001b[0;32m     60\u001b[0m     calculate_B_H,\n\u001b[0;32m     61\u001b[0m     calculate_dependent_values,\n\u001b[1;32m   (...)\u001b[0m\n\u001b[0;32m     70\u001b[0m     sub_network_pf,\n\u001b[0;32m     71\u001b[0m )\n\u001b[1;32m---> 72\u001b[0m \u001b[38;5;28;01mfrom\u001b[39;00m \u001b[38;5;21;01mpypsa\u001b[39;00m\u001b[38;5;21;01m.\u001b[39;00m\u001b[38;5;21;01mplot\u001b[39;00m \u001b[38;5;28;01mimport\u001b[39;00m iplot, plot\n\u001b[0;32m     73\u001b[0m \u001b[38;5;28;01mfrom\u001b[39;00m \u001b[38;5;21;01mpypsa\u001b[39;00m\u001b[38;5;21;01m.\u001b[39;00m\u001b[38;5;21;01mstatistics\u001b[39;00m \u001b[38;5;28;01mimport\u001b[39;00m StatisticsAccessor\n\u001b[0;32m     75\u001b[0m \u001b[38;5;28;01mif\u001b[39;00m sys\u001b[38;5;241m.\u001b[39mversion_info\u001b[38;5;241m.\u001b[39mmajor \u001b[38;5;241m>\u001b[39m\u001b[38;5;241m=\u001b[39m \u001b[38;5;241m3\u001b[39m:\n",
      "File \u001b[1;32mc:\\Users\\dell\\.conda\\envs\\pypsa-eur\\Lib\\site-packages\\pypsa\\plot.py:22\u001b[0m\n\u001b[0;32m     18\u001b[0m \u001b[38;5;28;01mimport\u001b[39;00m \u001b[38;5;21;01mpandas\u001b[39;00m \u001b[38;5;28;01mas\u001b[39;00m \u001b[38;5;21;01mpd\u001b[39;00m\n\u001b[0;32m     20\u001b[0m logger \u001b[38;5;241m=\u001b[39m logging\u001b[38;5;241m.\u001b[39mgetLogger(\u001b[38;5;18m__name__\u001b[39m)\n\u001b[1;32m---> 22\u001b[0m \u001b[38;5;28;01mimport\u001b[39;00m \u001b[38;5;21;01mmatplotlib\u001b[39;00m\u001b[38;5;21;01m.\u001b[39;00m\u001b[38;5;21;01mpyplot\u001b[39;00m \u001b[38;5;28;01mas\u001b[39;00m \u001b[38;5;21;01mplt\u001b[39;00m\n\u001b[0;32m     23\u001b[0m \u001b[38;5;28;01mfrom\u001b[39;00m \u001b[38;5;21;01mmatplotlib\u001b[39;00m\u001b[38;5;21;01m.\u001b[39;00m\u001b[38;5;21;01mcollections\u001b[39;00m \u001b[38;5;28;01mimport\u001b[39;00m LineCollection, PatchCollection\n\u001b[0;32m     24\u001b[0m \u001b[38;5;28;01mfrom\u001b[39;00m \u001b[38;5;21;01mmatplotlib\u001b[39;00m\u001b[38;5;21;01m.\u001b[39;00m\u001b[38;5;21;01mlegend_handler\u001b[39;00m \u001b[38;5;28;01mimport\u001b[39;00m HandlerPatch\n",
      "File \u001b[1;32mc:\\Users\\dell\\.conda\\envs\\pypsa-eur\\Lib\\site-packages\\matplotlib\\__init__.py:161\u001b[0m\n\u001b[0;32m    157\u001b[0m \u001b[38;5;28;01mfrom\u001b[39;00m \u001b[38;5;21;01mpackaging\u001b[39;00m\u001b[38;5;21;01m.\u001b[39;00m\u001b[38;5;21;01mversion\u001b[39;00m \u001b[38;5;28;01mimport\u001b[39;00m parse \u001b[38;5;28;01mas\u001b[39;00m parse_version\n\u001b[0;32m    159\u001b[0m \u001b[38;5;66;03m# cbook must import matplotlib only within function\u001b[39;00m\n\u001b[0;32m    160\u001b[0m \u001b[38;5;66;03m# definitions, so it is safe to import from it here.\u001b[39;00m\n\u001b[1;32m--> 161\u001b[0m \u001b[38;5;28;01mfrom\u001b[39;00m \u001b[38;5;21;01m.\u001b[39;00m \u001b[38;5;28;01mimport\u001b[39;00m _api, _version, cbook, _docstring, rcsetup\n\u001b[0;32m    162\u001b[0m \u001b[38;5;28;01mfrom\u001b[39;00m \u001b[38;5;21;01mmatplotlib\u001b[39;00m\u001b[38;5;21;01m.\u001b[39;00m\u001b[38;5;21;01mcbook\u001b[39;00m \u001b[38;5;28;01mimport\u001b[39;00m sanitize_sequence\n\u001b[0;32m    163\u001b[0m \u001b[38;5;28;01mfrom\u001b[39;00m \u001b[38;5;21;01mmatplotlib\u001b[39;00m\u001b[38;5;21;01m.\u001b[39;00m\u001b[38;5;21;01m_api\u001b[39;00m \u001b[38;5;28;01mimport\u001b[39;00m MatplotlibDeprecationWarning\n",
      "File \u001b[1;32mc:\\Users\\dell\\.conda\\envs\\pypsa-eur\\Lib\\site-packages\\matplotlib\\rcsetup.py:27\u001b[0m\n\u001b[0;32m     25\u001b[0m \u001b[38;5;28;01mfrom\u001b[39;00m \u001b[38;5;21;01mmatplotlib\u001b[39;00m \u001b[38;5;28;01mimport\u001b[39;00m _api, cbook\n\u001b[0;32m     26\u001b[0m \u001b[38;5;28;01mfrom\u001b[39;00m \u001b[38;5;21;01mmatplotlib\u001b[39;00m\u001b[38;5;21;01m.\u001b[39;00m\u001b[38;5;21;01mcbook\u001b[39;00m \u001b[38;5;28;01mimport\u001b[39;00m ls_mapper\n\u001b[1;32m---> 27\u001b[0m \u001b[38;5;28;01mfrom\u001b[39;00m \u001b[38;5;21;01mmatplotlib\u001b[39;00m\u001b[38;5;21;01m.\u001b[39;00m\u001b[38;5;21;01mcolors\u001b[39;00m \u001b[38;5;28;01mimport\u001b[39;00m Colormap, is_color_like\n\u001b[0;32m     28\u001b[0m \u001b[38;5;28;01mfrom\u001b[39;00m \u001b[38;5;21;01mmatplotlib\u001b[39;00m\u001b[38;5;21;01m.\u001b[39;00m\u001b[38;5;21;01m_fontconfig_pattern\u001b[39;00m \u001b[38;5;28;01mimport\u001b[39;00m parse_fontconfig_pattern\n\u001b[0;32m     29\u001b[0m \u001b[38;5;28;01mfrom\u001b[39;00m \u001b[38;5;21;01mmatplotlib\u001b[39;00m\u001b[38;5;21;01m.\u001b[39;00m\u001b[38;5;21;01m_enums\u001b[39;00m \u001b[38;5;28;01mimport\u001b[39;00m JoinStyle, CapStyle\n",
      "File \u001b[1;32mc:\\Users\\dell\\.conda\\envs\\pypsa-eur\\Lib\\site-packages\\matplotlib\\colors.py:58\u001b[0m\n\u001b[0;32m     56\u001b[0m \u001b[38;5;28;01mimport\u001b[39;00m \u001b[38;5;21;01mnumpy\u001b[39;00m \u001b[38;5;28;01mas\u001b[39;00m \u001b[38;5;21;01mnp\u001b[39;00m\n\u001b[0;32m     57\u001b[0m \u001b[38;5;28;01mfrom\u001b[39;00m \u001b[38;5;21;01mmatplotlib\u001b[39;00m \u001b[38;5;28;01mimport\u001b[39;00m _api, _cm, cbook, scale\n\u001b[1;32m---> 58\u001b[0m \u001b[38;5;28;01mfrom\u001b[39;00m \u001b[38;5;21;01m.\u001b[39;00m\u001b[38;5;21;01m_color_data\u001b[39;00m \u001b[38;5;28;01mimport\u001b[39;00m BASE_COLORS, TABLEAU_COLORS, CSS4_COLORS, XKCD_COLORS\n\u001b[0;32m     61\u001b[0m \u001b[38;5;28;01mclass\u001b[39;00m \u001b[38;5;21;01m_ColorMapping\u001b[39;00m(\u001b[38;5;28mdict\u001b[39m):\n\u001b[0;32m     62\u001b[0m     \u001b[38;5;28;01mdef\u001b[39;00m \u001b[38;5;21m__init__\u001b[39m(\u001b[38;5;28mself\u001b[39m, mapping):\n",
      "File \u001b[1;32m<frozen importlib._bootstrap>:1176\u001b[0m, in \u001b[0;36m_find_and_load\u001b[1;34m(name, import_)\u001b[0m\n",
      "File \u001b[1;32m<frozen importlib._bootstrap>:1138\u001b[0m, in \u001b[0;36m_find_and_load_unlocked\u001b[1;34m(name, import_)\u001b[0m\n",
      "File \u001b[1;32m<frozen importlib._bootstrap>:1078\u001b[0m, in \u001b[0;36m_find_spec\u001b[1;34m(name, path, target)\u001b[0m\n",
      "File \u001b[1;32m<frozen importlib._bootstrap_external>:1504\u001b[0m, in \u001b[0;36mfind_spec\u001b[1;34m(cls, fullname, path, target)\u001b[0m\n",
      "File \u001b[1;32m<frozen importlib._bootstrap_external>:1476\u001b[0m, in \u001b[0;36m_get_spec\u001b[1;34m(cls, fullname, path, target)\u001b[0m\n",
      "File \u001b[1;32m<frozen importlib._bootstrap_external>:1612\u001b[0m, in \u001b[0;36mfind_spec\u001b[1;34m(self, fullname, target)\u001b[0m\n",
      "File \u001b[1;32m<frozen importlib._bootstrap_external>:147\u001b[0m, in \u001b[0;36m_path_stat\u001b[1;34m(path)\u001b[0m\n",
      "\u001b[1;31mKeyboardInterrupt\u001b[0m: "
     ]
    }
   ],
   "source": [
    "import pypsa\n",
    "import os\n",
    "import matplotlib.pyplot as plt\n",
    "import numpy as np\n",
    "import pandas as pd\n",
    "import cartopy.crs as ccrs\n",
    "import warnings\n",
    "import subprocess\n",
    "from shapely.errors import ShapelyDeprecationWarning\n",
    "import logging\n",
    "\n",
    "warnings.filterwarnings(\"ignore\", category=ShapelyDeprecationWarning)\n",
    "warnings.filterwarnings(\"ignore\", category=FutureWarning)\n",
    "logging.getLogger(\"pypsa.pf\").setLevel(logging.WARNING)\n",
    "plt.rc(\"figure\", figsize=(10, 8))"
   ]
  },
  {
   "cell_type": "code",
   "execution_count": null,
   "metadata": {},
   "outputs": [],
   "source": [
    "excel_file_path = r\"C:\\Users\\dell\\Documents\\1\\data_germany_50+ten.xlsx\"\n"
   ]
  },
  {
   "cell_type": "markdown",
   "metadata": {},
   "source": [
    "### 2)Create a network and set Snapshots"
   ]
  },
  {
   "cell_type": "code",
   "execution_count": null,
   "metadata": {},
   "outputs": [],
   "source": [
    "# Create a new PyPSA network\n",
    "network= pypsa.Network()\n",
    "network.set_snapshots(range(8760))  # Solve for a year 365*24"
   ]
  },
  {
   "cell_type": "markdown",
   "metadata": {},
   "source": [
    "### 3)Add Buses"
   ]
  },
  {
   "cell_type": "code",
   "execution_count": null,
   "metadata": {},
   "outputs": [],
   "source": [
    "# Read excel file which contains Non renewable generators data\n",
    "bus_data = pd.read_excel(excel_file_path, sheet_name='buses')"
   ]
  },
  {
   "cell_type": "code",
   "execution_count": null,
   "metadata": {},
   "outputs": [],
   "source": [
    "for index,row in bus_data.iterrows():\n",
    "    network.add(\n",
    "    \"Bus\",\n",
    "    name=row['bus'],\n",
    "    v_nom=row['v_nom'],\n",
    "    carrier=row['carrier'],\n",
    "    x=row['x'],\n",
    "    y=row['y']\n",
    ")\n",
    "    \n",
    "network.buses"
   ]
  },
  {
   "cell_type": "markdown",
   "metadata": {},
   "source": [
    "### 4)Add generators"
   ]
  },
  {
   "cell_type": "code",
   "execution_count": null,
   "metadata": {},
   "outputs": [],
   "source": [
    "generators = pd.read_excel(excel_file_path,sheet_name=\"generators\" )\n",
    "\n",
    "network.madd(\n",
    "\"Generator\",\n",
    "    names= generators.generator,\n",
    "    bus=list(generators.bus),\n",
    "    carrier=list(generators.carrier),\n",
    "    p_nom=list(generators.p_nom),      \n",
    "    p_nom_max=list(generators.p_nom_A),     \n",
    "    #p_nom_max=list(generators.p_nom_B),    \n",
    "    #p_nom_max=list(generators.p_nom_C),    \n",
    "    p_nom_extendable=list(generators.p_nom_extandable),\n",
    "    marginal_cost=list(generators.marginal_cost),\n",
    "    efficiency=list(generators.efficiency),\n",
    "    capital_cost=list(generators.capital_cost)\n",
    "    ) \n",
    "\n",
    "network.generators"
   ]
  },
  {
   "cell_type": "code",
   "execution_count": null,
   "metadata": {},
   "outputs": [],
   "source": [
    "PV_timeseries=pd.read_excel(excel_file_path,sheet_name='PV_timeseries')\n",
    "wind_timeseries=pd.read_excel(excel_file_path,sheet_name='wind_timeseries')"
   ]
  },
  {
   "cell_type": "code",
   "execution_count": null,
   "metadata": {},
   "outputs": [],
   "source": [
    "network.generators_t.p_max_pu[\"50_Solar\"] = list(PV_timeseries.p_nom_pu_solar_50Hertz)\n",
    "network.generators_t.p_max_pu[\"50_Offshore Wind\"] = list(wind_timeseries.p_nom_pu_offshore_50Hertz)\n",
    "network.generators_t.p_max_pu[\"50_Onshore Wind\"] = list(wind_timeseries.p_nom_pu_onshore_50Hertz)\n",
    "\n",
    "network.generators_t.p_max_pu[\"Ten_Solar\"] = list(PV_timeseries.p_nom_pu_solar_Tennet)\n",
    "network.generators_t.p_max_pu[\"Ten_Offshore Wind\"] = list(wind_timeseries.p_nom_pu_offshore_Tennet)\n",
    "network.generators_t.p_max_pu[\"Ten_Onshore Wind\"] = list(wind_timeseries.p_nom_pu_onshore_Tennet)"
   ]
  },
  {
   "cell_type": "markdown",
   "metadata": {},
   "source": [
    "### 5)Add load"
   ]
  },
  {
   "cell_type": "markdown",
   "metadata": {},
   "source": [
    "### Added by Parag"
   ]
  },
  {
   "cell_type": "code",
   "execution_count": null,
   "metadata": {},
   "outputs": [],
   "source": [
    "'''\n",
    "You can add your all loads in a timeseries in columns and add load using network.add function like mentioned in the following code:\n",
    "To verify whether the timeseries of the load data (p_set) is added properly, use:  `network.loads_t.p_set`  this command\n",
    "'''\n",
    "\n",
    "\"\"\"\n",
    "# Read excel file which contains Non renewable generators data\n",
    "def add_consumers(filename, index_col):\n",
    "    try:\n",
    "        load = pd.read_(filename,index_col=index_col)\n",
    "    except pd.errors.EmptyDataError:\n",
    "        print(\"The CSV file is empty.\")\n",
    "        return\n",
    "\n",
    "    for load_name in list(load.columns.unique()):\n",
    "        network.add(\"Load\",\n",
    "        f\"{load_name}\",\n",
    "        bus=load_name,\n",
    "        p_set=load[load_name].tolist()\n",
    "        )\n",
    "\n",
    "    return network.loads_t.p_set.head(5)    \n",
    "\"\"\""
   ]
  },
  {
   "cell_type": "code",
   "execution_count": null,
   "metadata": {},
   "outputs": [],
   "source": [
    "demand = pd.read_excel(excel_file_path,sheet_name=\"load_hourly\" )\n",
    "'''\n",
    "network.add(\"Load\", \"Tennet\", bus=\"Tennet\", p_set=demand[\"TenneT\"])\n",
    "network.add(\"Load\", \"50Hertz\", bus=\"50Hertz\", p_set=demand[\"50Hertz\"])\n",
    "'''\n",
    "#'''Scenario A\n",
    "network.add(\"Load\", \"Tennet\", bus=\"Tennet\", p_set=demand[\"load_A_TenneT\"])\n",
    "network.add(\"Load\", \"50Hertz\", bus=\"50Hertz\", p_set=demand[\"load_A_50Hertz\"])\n",
    "#'''\n",
    "\n",
    "'''Scenario B\n",
    "network.add(\"Load\", \"Tennet\", bus=\"Tennet\", p_set=demand[\"load_B_TenneT\"])\n",
    "network.add(\"Load\", \"50Hertz\", bus=\"50Hertz\", p_set=demand[\"load_B_50Hertz\"])\n",
    "'''\n",
    "\n",
    "'''Scenario C\n",
    "network.add(\"Load\", \"Tennet\", bus=\"Tennet\", p_set=demand[\"load_C_TenneT\"])\n",
    "network.add(\"Load\", \"50Hertz\", bus=\"50Hertz\", p_set=demand[\"load_C_50Hertz\"])\n",
    "'''"
   ]
  },
  {
   "cell_type": "code",
   "execution_count": null,
   "metadata": {},
   "outputs": [],
   "source": [
    "network.loads_t.p_set.plot(figsize=(9,3), ylabel=\"MW\")"
   ]
  },
  {
   "cell_type": "markdown",
   "metadata": {},
   "source": [
    "### 6)Add Lines"
   ]
  },
  {
   "cell_type": "code",
   "execution_count": null,
   "metadata": {},
   "outputs": [],
   "source": [
    "lines=pd.read_excel(excel_file_path,sheet_name='lines',header=0)\n",
    "lines.head()"
   ]
  },
  {
   "cell_type": "code",
   "execution_count": null,
   "metadata": {},
   "outputs": [],
   "source": [
    "for X, row in lines.iterrows():\n",
    "    network.add(\"Line\",\n",
    "    name=row['name'],\n",
    "    bus0=row['bus0'],\n",
    "    bus1=row['bus1'],\n",
    "    s_nom=row['s_nom'],\n",
    "    x=row['efficiency'],\n",
    "    s_nom_extendable=row['s_nom_extendable'] \n",
    "    )\n",
    "network.lines"
   ]
  },
  {
   "cell_type": "markdown",
   "metadata": {},
   "source": [
    "### 7)Add links"
   ]
  },
  {
   "cell_type": "markdown",
   "metadata": {},
   "source": [
    "links = pd.read_excel(excel_file_path, sheet_name='links')\n",
    "links.head()"
   ]
  },
  {
   "cell_type": "markdown",
   "metadata": {},
   "source": [
    "for X, row in links.iterrows():\n",
    "    network.add(\"Link\",\n",
    "    name=row['name'],\n",
    "    bus0=row['bus0'],\n",
    "    bus1=row['bus1'],\n",
    "    p_nom=row['p_nom'],\n",
    "    p_nom_extendable=row['p_nom_extendable'],\n",
    "    efficiency=row['efficiency'],\n",
    "    capital_cost=row['capital_cost'] )\n",
    "network.links"
   ]
  },
  {
   "cell_type": "markdown",
   "metadata": {},
   "source": [
    "### 8)Add carriers"
   ]
  },
  {
   "cell_type": "code",
   "execution_count": null,
   "metadata": {},
   "outputs": [],
   "source": [
    "Carriers = pd.read_excel(excel_file_path,sheet_name=\"co2_emissions\" )\n",
    "Carriers.tail()"
   ]
  },
  {
   "cell_type": "code",
   "execution_count": null,
   "metadata": {},
   "outputs": [],
   "source": [
    "for X, row in Carriers.iterrows():\n",
    "    network.add(\n",
    "        \"Carrier\",\n",
    "        name=row['name'],\n",
    "        co2_emissions=row['co2_emissions']\n",
    "    )\n",
    "network.carriers"
   ]
  },
  {
   "cell_type": "code",
   "execution_count": null,
   "metadata": {},
   "outputs": [],
   "source": [
    "network.add(\"Store\", \"battery storage1\", bus=\"50Hertz\", e_cyclic=True, e_nom=10000000.0)\n",
    "network.add(\"Store\", \"battery storage3\", bus=\"Tennet\", e_cyclic=True, e_nom=10000000.0)\n"
   ]
  },
  {
   "cell_type": "code",
   "execution_count": null,
   "metadata": {},
   "outputs": [],
   "source": [
    "network.add(\n",
    "    \"StorageUnit\",\n",
    "    \"battery storage1\",\n",
    "    bus=\"50Hertz\",\n",
    "    p_nom=100000000,\n",
    "    max_hours=10,  # energy storage in terms of hours at full power\n",
    ")"
   ]
  },
  {
   "cell_type": "code",
   "execution_count": null,
   "metadata": {},
   "outputs": [],
   "source": [
    "network.add(\n",
    "    \"StorageUnit\",\n",
    "    \"battery storage3\",\n",
    "    bus=\"Tennet\",\n",
    "    p_nom=100000000,\n",
    "    max_hours=10,  # energy storage in terms of hours at full power\n",
    ")"
   ]
  },
  {
   "cell_type": "markdown",
   "metadata": {},
   "source": [
    "### 9)CO2 emissions"
   ]
  },
  {
   "cell_type": "markdown",
   "metadata": {},
   "source": [
    "network.add(\"GlobalConstraint\", \"co2_limit\", sense=\"<=\", constant=438000000)"
   ]
  },
  {
   "cell_type": "markdown",
   "metadata": {},
   "source": [
    "## RESULTS"
   ]
  },
  {
   "cell_type": "markdown",
   "metadata": {},
   "source": [
    "### 1)Optimize"
   ]
  },
  {
   "cell_type": "code",
   "execution_count": null,
   "metadata": {},
   "outputs": [],
   "source": [
    "network.optimize(solver_name='glpk')"
   ]
  },
  {
   "cell_type": "markdown",
   "metadata": {},
   "source": [
    "### 2)Margianl price"
   ]
  },
  {
   "cell_type": "code",
   "execution_count": null,
   "metadata": {},
   "outputs": [],
   "source": [
    "network.buses_t.marginal_price"
   ]
  },
  {
   "cell_type": "code",
   "execution_count": null,
   "metadata": {},
   "outputs": [],
   "source": [
    "network.generators.p_nom_opt.plot.bar(ylabel=\"MW\", figsize=(8, 3))"
   ]
  },
  {
   "cell_type": "code",
   "execution_count": null,
   "metadata": {},
   "outputs": [],
   "source": [
    "network.generators_t.p.sum().plot.bar(ylabel=\"Total generation MW\")"
   ]
  },
  {
   "cell_type": "markdown",
   "metadata": {},
   "source": [
    "### 3)Lines snapshot"
   ]
  },
  {
   "cell_type": "code",
   "execution_count": null,
   "metadata": {},
   "outputs": [],
   "source": [
    "network.lines_t.p0"
   ]
  },
  {
   "cell_type": "markdown",
   "metadata": {},
   "source": [
    "### 4)Gen assign"
   ]
  },
  {
   "cell_type": "code",
   "execution_count": null,
   "metadata": {},
   "outputs": [],
   "source": [
    "gen = network.generators.assign(g=network.generators_t.p.mean()).groupby([\"bus\", \"carrier\"]).g.sum()\n",
    "gen"
   ]
  },
  {
   "cell_type": "markdown",
   "metadata": {},
   "source": [
    "### 5)Flow"
   ]
  },
  {
   "cell_type": "code",
   "execution_count": null,
   "metadata": {},
   "outputs": [],
   "source": [
    "flow = pd.Series(10, index=network.branches().index)\n",
    "flow"
   ]
  },
  {
   "cell_type": "markdown",
   "metadata": {},
   "source": [
    "### 6)Geo. graph"
   ]
  },
  {
   "cell_type": "code",
   "execution_count": null,
   "metadata": {},
   "outputs": [],
   "source": [
    "plot_graph=network.plot(\n",
    "    bus_sizes=gen/20000,\n",
    "    bus_colors={\"biomass\":\"black\",\"coal\":\"blue\",\"gas\":\"pink\",\"hydro\":\"cadetblue\",\"lignite\":\"yellow\",\"solar\":\"orange\",\"wind\":\"midnightblue\"},\n",
    "    margin=1,\n",
    "    line_widths=3,\n",
    "    link_widths=0,\n",
    "    flow=flow,\n",
    "    color_geomap=True,\n",
    "    projection=ccrs.EqualEarth(),\n",
    "    line_colors=network.lines_t.p0.mean().abs(),\n",
    ")\n",
    "plt.colorbar(plot_graph[2], fraction=0.04, pad=0.004, label=\"Flow in MW\")\n",
    "plt.show()"
   ]
  },
  {
   "cell_type": "code",
   "execution_count": null,
   "metadata": {},
   "outputs": [],
   "source": [
    "# Your DataFrame df\n",
    "df = pd.concat(\n",
    "    [\n",
    "        network.generators_t.p.loc[0],\n",
    "        network.links_t.p0.loc[0],\n",
    "        network.loads_t.p.loc[0],\n",
    "    ],\n",
    "    keys=[\"Generators\", \"Links\", \"Line\"],\n",
    "    names=[\"Component\", \"index\"],\n",
    ").reset_index(name=\"Production\")\n",
    "\n",
    "# Plotting using PyPSA\n",
    "fig, ax = plt.subplots(figsize=(50, 10))\n",
    "\n",
    "# Plot generators\n",
    "df_generators = df[df[\"Component\"] == \"Generators\"]\n",
    "ax.bar(df_generators[\"index\"], df_generators[\"Production\"], label=\"Generators\")\n",
    "\n",
    "# Plot links\n",
    "df_links = df[df[\"Component\"] == \"Links\"]\n",
    "ax.bar(df_links[\"index\"], df_links[\"Production\"], label=\"Links\")\n",
    "\n",
    "# Plot loads\n",
    "df_loads = df[df[\"Component\"] == \"Line\"]\n",
    "ax.bar(df_loads[\"index\"], df_loads[\"Production\"], label=\"Line\")\n",
    "\n",
    "# Customize the plot\n",
    "ax.set_xlabel(\"Component\")\n",
    "ax.set_ylabel(\"Production (MW)\")\n",
    "ax.set_title(\"Power Production by Component\")\n",
    "ax.legend()\n",
    "\n",
    "# Show the plot\n",
    "plt.show()\n"
   ]
  },
  {
   "cell_type": "markdown",
   "metadata": {},
   "source": [
    "## ADDITIONAL"
   ]
  },
  {
   "cell_type": "markdown",
   "metadata": {},
   "source": [
    "### -)Storages"
   ]
  },
  {
   "cell_type": "code",
   "execution_count": null,
   "metadata": {},
   "outputs": [],
   "source": [
    "\"\"\"\n",
    "def add_stores(filename, header):\n",
    "    try:\n",
    "        stores = pd.read_csv(filename, header=header)\n",
    "    except pd.errors.EmptyDataError:\n",
    "        print(\"The CSV file is empty.\")\n",
    "        return\n",
    "        \n",
    "    for index, row in stores.iterrows():\n",
    "        network.add(\n",
    "            \"Store\",\n",
    "            name=row['name'],\n",
    "            e_initial=row['e_initial'],\n",
    "            e_nom=row['e_nom'],\n",
    "            marginal_cost=row['marginal_cost'],\n",
    "            bus=row['bus'],\n",
    "            e_cyclic=row['e_cyclic'],\n",
    "            e_nom_extendable=row['e_nom_extendable'],\n",
    "        )\n",
    "    return network.stores\n",
    "\"\"\""
   ]
  },
  {
   "cell_type": "markdown",
   "metadata": {},
   "source": [
    "add_stores('stores.csv',0)"
   ]
  },
  {
   "cell_type": "markdown",
   "metadata": {},
   "source": [
    "### -)Global constraints"
   ]
  },
  {
   "cell_type": "code",
   "execution_count": null,
   "metadata": {},
   "outputs": [],
   "source": []
  },
  {
   "cell_type": "code",
   "execution_count": null,
   "metadata": {},
   "outputs": [],
   "source": [
    "#network.lopf()"
   ]
  }
 ],
 "metadata": {
  "@webio": {
   "lastCommId": null,
   "lastKernelId": null
  },
  "kernelspec": {
   "display_name": "Python 3.11.6 ('PyPSA')",
   "language": "python",
   "name": "python3"
  },
  "language_info": {
   "codemirror_mode": {
    "name": "ipython",
    "version": 3
   },
   "file_extension": ".py",
   "mimetype": "text/x-python",
   "name": "python",
   "nbconvert_exporter": "python",
   "pygments_lexer": "ipython3",
   "version": "3.11.7"
  },
  "vscode": {
   "interpreter": {
    "hash": "9362ac2cf2c17960d79fda7a8ec755c04e96fd0061c81d467f9ff311b94f59c5"
   }
  }
 },
 "nbformat": 4,
 "nbformat_minor": 1
}
