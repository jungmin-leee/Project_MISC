{
 "cells": [
  {
   "cell_type": "markdown",
   "metadata": {},
   "source": [
    "# CASE STUDY"
   ]
  },
  {
   "cell_type": "markdown",
   "metadata": {},
   "source": [
    "## CODE"
   ]
  },
  {
   "cell_type": "markdown",
   "metadata": {},
   "source": [
    "### 1)Import Packages"
   ]
  },
  {
   "cell_type": "code",
   "execution_count": 70,
   "metadata": {},
   "outputs": [],
   "source": [
    "import pypsa\n",
    "import os\n",
    "import matplotlib.pyplot as plt\n",
    "import numpy as np\n",
    "import pandas as pd\n",
    "import cartopy.crs as ccrs\n",
    "import warnings\n",
    "import subprocess\n",
    "from shapely.errors import ShapelyDeprecationWarning\n",
    "import logging\n",
    "\n",
    "warnings.filterwarnings(\"ignore\", category=ShapelyDeprecationWarning)\n",
    "warnings.filterwarnings(\"ignore\", category=FutureWarning)\n",
    "logging.getLogger(\"pypsa.pf\").setLevel(logging.WARNING)\n",
    "plt.rc(\"figure\", figsize=(10, 8))"
   ]
  },
  {
   "cell_type": "code",
   "execution_count": 71,
   "metadata": {},
   "outputs": [],
   "source": [
    "excel_file_path = r\"C:\\Users\\dell\\Documents\\1\\Amprion.xlsx\"\n"
   ]
  },
  {
   "cell_type": "markdown",
   "metadata": {},
   "source": [
    "### 2)Create a network and set Snapshots"
   ]
  },
  {
   "cell_type": "code",
   "execution_count": 72,
   "metadata": {},
   "outputs": [],
   "source": [
    "# Create a new PyPSA network\n",
    "network= pypsa.Network()\n",
    "network.set_snapshots(range(8760))  # Solve for a year 365*24"
   ]
  },
  {
   "cell_type": "markdown",
   "metadata": {},
   "source": [
    "### 3)Add Buses"
   ]
  },
  {
   "cell_type": "code",
   "execution_count": 73,
   "metadata": {},
   "outputs": [],
   "source": [
    "# Read excel file which contains Non renewable generators data\n",
    "bus_data = pd.read_excel(excel_file_path, sheet_name='buses')"
   ]
  },
  {
   "cell_type": "code",
   "execution_count": 74,
   "metadata": {},
   "outputs": [
    {
     "data": {
      "text/html": [
       "<div>\n",
       "<style scoped>\n",
       "    .dataframe tbody tr th:only-of-type {\n",
       "        vertical-align: middle;\n",
       "    }\n",
       "\n",
       "    .dataframe tbody tr th {\n",
       "        vertical-align: top;\n",
       "    }\n",
       "\n",
       "    .dataframe thead th {\n",
       "        text-align: right;\n",
       "    }\n",
       "</style>\n",
       "<table border=\"1\" class=\"dataframe\">\n",
       "  <thead>\n",
       "    <tr style=\"text-align: right;\">\n",
       "      <th>attribute</th>\n",
       "      <th>v_nom</th>\n",
       "      <th>type</th>\n",
       "      <th>x</th>\n",
       "      <th>y</th>\n",
       "      <th>carrier</th>\n",
       "      <th>unit</th>\n",
       "      <th>v_mag_pu_set</th>\n",
       "      <th>v_mag_pu_min</th>\n",
       "      <th>v_mag_pu_max</th>\n",
       "      <th>control</th>\n",
       "      <th>generator</th>\n",
       "      <th>sub_network</th>\n",
       "    </tr>\n",
       "    <tr>\n",
       "      <th>Bus</th>\n",
       "      <th></th>\n",
       "      <th></th>\n",
       "      <th></th>\n",
       "      <th></th>\n",
       "      <th></th>\n",
       "      <th></th>\n",
       "      <th></th>\n",
       "      <th></th>\n",
       "      <th></th>\n",
       "      <th></th>\n",
       "      <th></th>\n",
       "      <th></th>\n",
       "    </tr>\n",
       "  </thead>\n",
       "  <tbody>\n",
       "    <tr>\n",
       "      <th>Amprion</th>\n",
       "      <td>380.0</td>\n",
       "      <td></td>\n",
       "      <td>6.953101</td>\n",
       "      <td>50.935173</td>\n",
       "      <td>AC</td>\n",
       "      <td></td>\n",
       "      <td>1.0</td>\n",
       "      <td>0.0</td>\n",
       "      <td>inf</td>\n",
       "      <td>PQ</td>\n",
       "      <td></td>\n",
       "      <td></td>\n",
       "    </tr>\n",
       "  </tbody>\n",
       "</table>\n",
       "</div>"
      ],
      "text/plain": [
       "attribute  v_nom type         x          y carrier unit  v_mag_pu_set  \\\n",
       "Bus                                                                     \n",
       "Amprion    380.0       6.953101  50.935173      AC                1.0   \n",
       "\n",
       "attribute  v_mag_pu_min  v_mag_pu_max control generator sub_network  \n",
       "Bus                                                                  \n",
       "Amprion             0.0           inf      PQ                        "
      ]
     },
     "execution_count": 74,
     "metadata": {},
     "output_type": "execute_result"
    }
   ],
   "source": [
    "for index,row in bus_data.iterrows():\n",
    "    network.add(\n",
    "    \"Bus\",\n",
    "    name=row['bus'],\n",
    "    v_nom=row['v_nom'],\n",
    "    carrier=row['carrier'],\n",
    "    x=row['x'],\n",
    "    y=row['y']\n",
    ")\n",
    "    \n",
    "network.buses"
   ]
  },
  {
   "cell_type": "markdown",
   "metadata": {},
   "source": [
    "### 4)Add generators"
   ]
  },
  {
   "cell_type": "code",
   "execution_count": 75,
   "metadata": {},
   "outputs": [
    {
     "data": {
      "text/html": [
       "<div>\n",
       "<style scoped>\n",
       "    .dataframe tbody tr th:only-of-type {\n",
       "        vertical-align: middle;\n",
       "    }\n",
       "\n",
       "    .dataframe tbody tr th {\n",
       "        vertical-align: top;\n",
       "    }\n",
       "\n",
       "    .dataframe thead th {\n",
       "        text-align: right;\n",
       "    }\n",
       "</style>\n",
       "<table border=\"1\" class=\"dataframe\">\n",
       "  <thead>\n",
       "    <tr style=\"text-align: right;\">\n",
       "      <th></th>\n",
       "      <th>bus</th>\n",
       "      <th>carrier</th>\n",
       "      <th>p_nom</th>\n",
       "      <th>p_nom_max</th>\n",
       "      <th>p_nom_extendable</th>\n",
       "      <th>marginal_cost</th>\n",
       "      <th>efficiency</th>\n",
       "      <th>capital_cost</th>\n",
       "      <th>control</th>\n",
       "      <th>type</th>\n",
       "      <th>...</th>\n",
       "      <th>min_up_time</th>\n",
       "      <th>min_down_time</th>\n",
       "      <th>up_time_before</th>\n",
       "      <th>down_time_before</th>\n",
       "      <th>ramp_limit_up</th>\n",
       "      <th>ramp_limit_down</th>\n",
       "      <th>ramp_limit_start_up</th>\n",
       "      <th>ramp_limit_shut_down</th>\n",
       "      <th>weight</th>\n",
       "      <th>p_nom_opt</th>\n",
       "    </tr>\n",
       "    <tr>\n",
       "      <th>Generator</th>\n",
       "      <th></th>\n",
       "      <th></th>\n",
       "      <th></th>\n",
       "      <th></th>\n",
       "      <th></th>\n",
       "      <th></th>\n",
       "      <th></th>\n",
       "      <th></th>\n",
       "      <th></th>\n",
       "      <th></th>\n",
       "      <th></th>\n",
       "      <th></th>\n",
       "      <th></th>\n",
       "      <th></th>\n",
       "      <th></th>\n",
       "      <th></th>\n",
       "      <th></th>\n",
       "      <th></th>\n",
       "      <th></th>\n",
       "      <th></th>\n",
       "      <th></th>\n",
       "    </tr>\n",
       "  </thead>\n",
       "  <tbody>\n",
       "    <tr>\n",
       "      <th>A_Biomasse</th>\n",
       "      <td>Amprion</td>\n",
       "      <td>biomass</td>\n",
       "      <td>1507.0</td>\n",
       "      <td>800.0</td>\n",
       "      <td>False</td>\n",
       "      <td>75.000</td>\n",
       "      <td>0.40</td>\n",
       "      <td>220900.0</td>\n",
       "      <td>PQ</td>\n",
       "      <td></td>\n",
       "      <td>...</td>\n",
       "      <td>0</td>\n",
       "      <td>0</td>\n",
       "      <td>1</td>\n",
       "      <td>0</td>\n",
       "      <td>NaN</td>\n",
       "      <td>NaN</td>\n",
       "      <td>1.0</td>\n",
       "      <td>1.0</td>\n",
       "      <td>1.0</td>\n",
       "      <td>0.0</td>\n",
       "    </tr>\n",
       "    <tr>\n",
       "      <th>A_Coal</th>\n",
       "      <td>Amprion</td>\n",
       "      <td>coal</td>\n",
       "      <td>7702.0</td>\n",
       "      <td>5300.0</td>\n",
       "      <td>False</td>\n",
       "      <td>33.708</td>\n",
       "      <td>0.30</td>\n",
       "      <td>130000.0</td>\n",
       "      <td>PQ</td>\n",
       "      <td></td>\n",
       "      <td>...</td>\n",
       "      <td>0</td>\n",
       "      <td>0</td>\n",
       "      <td>1</td>\n",
       "      <td>0</td>\n",
       "      <td>NaN</td>\n",
       "      <td>NaN</td>\n",
       "      <td>1.0</td>\n",
       "      <td>1.0</td>\n",
       "      <td>1.0</td>\n",
       "      <td>0.0</td>\n",
       "    </tr>\n",
       "    <tr>\n",
       "      <th>A_Lignite</th>\n",
       "      <td>Amprion</td>\n",
       "      <td>lignite</td>\n",
       "      <td>10915.0</td>\n",
       "      <td>3300.0</td>\n",
       "      <td>False</td>\n",
       "      <td>31.960</td>\n",
       "      <td>0.40</td>\n",
       "      <td>190000.0</td>\n",
       "      <td>PQ</td>\n",
       "      <td></td>\n",
       "      <td>...</td>\n",
       "      <td>0</td>\n",
       "      <td>0</td>\n",
       "      <td>1</td>\n",
       "      <td>0</td>\n",
       "      <td>NaN</td>\n",
       "      <td>NaN</td>\n",
       "      <td>1.0</td>\n",
       "      <td>1.0</td>\n",
       "      <td>1.0</td>\n",
       "      <td>0.0</td>\n",
       "    </tr>\n",
       "    <tr>\n",
       "      <th>A_Natural gas</th>\n",
       "      <td>Amprion</td>\n",
       "      <td>gas</td>\n",
       "      <td>14824.0</td>\n",
       "      <td>11600.0</td>\n",
       "      <td>False</td>\n",
       "      <td>36.568</td>\n",
       "      <td>0.40</td>\n",
       "      <td>40000.0</td>\n",
       "      <td>PQ</td>\n",
       "      <td></td>\n",
       "      <td>...</td>\n",
       "      <td>0</td>\n",
       "      <td>0</td>\n",
       "      <td>1</td>\n",
       "      <td>0</td>\n",
       "      <td>NaN</td>\n",
       "      <td>NaN</td>\n",
       "      <td>1.0</td>\n",
       "      <td>1.0</td>\n",
       "      <td>1.0</td>\n",
       "      <td>0.0</td>\n",
       "    </tr>\n",
       "    <tr>\n",
       "      <th>A_Onshore Wind</th>\n",
       "      <td>Amprion</td>\n",
       "      <td>wind</td>\n",
       "      <td>10554.0</td>\n",
       "      <td>14300.0</td>\n",
       "      <td>True</td>\n",
       "      <td>0.000</td>\n",
       "      <td>1.00</td>\n",
       "      <td>118200.0</td>\n",
       "      <td>PQ</td>\n",
       "      <td></td>\n",
       "      <td>...</td>\n",
       "      <td>0</td>\n",
       "      <td>0</td>\n",
       "      <td>1</td>\n",
       "      <td>0</td>\n",
       "      <td>NaN</td>\n",
       "      <td>NaN</td>\n",
       "      <td>1.0</td>\n",
       "      <td>1.0</td>\n",
       "      <td>1.0</td>\n",
       "      <td>0.0</td>\n",
       "    </tr>\n",
       "    <tr>\n",
       "      <th>A_Pumped storage</th>\n",
       "      <td>Amprion</td>\n",
       "      <td>hydro</td>\n",
       "      <td>200.0</td>\n",
       "      <td>300.0</td>\n",
       "      <td>True</td>\n",
       "      <td>3.000</td>\n",
       "      <td>0.95</td>\n",
       "      <td>200000.0</td>\n",
       "      <td>PQ</td>\n",
       "      <td></td>\n",
       "      <td>...</td>\n",
       "      <td>0</td>\n",
       "      <td>0</td>\n",
       "      <td>1</td>\n",
       "      <td>0</td>\n",
       "      <td>NaN</td>\n",
       "      <td>NaN</td>\n",
       "      <td>1.0</td>\n",
       "      <td>1.0</td>\n",
       "      <td>1.0</td>\n",
       "      <td>0.0</td>\n",
       "    </tr>\n",
       "    <tr>\n",
       "      <th>A_Solar</th>\n",
       "      <td>Amprion</td>\n",
       "      <td>solar</td>\n",
       "      <td>11067.0</td>\n",
       "      <td>13000.0</td>\n",
       "      <td>True</td>\n",
       "      <td>0.000</td>\n",
       "      <td>1.00</td>\n",
       "      <td>60000.0</td>\n",
       "      <td>PQ</td>\n",
       "      <td></td>\n",
       "      <td>...</td>\n",
       "      <td>0</td>\n",
       "      <td>0</td>\n",
       "      <td>1</td>\n",
       "      <td>0</td>\n",
       "      <td>NaN</td>\n",
       "      <td>NaN</td>\n",
       "      <td>1.0</td>\n",
       "      <td>1.0</td>\n",
       "      <td>1.0</td>\n",
       "      <td>0.0</td>\n",
       "    </tr>\n",
       "    <tr>\n",
       "      <th>A_runofriver</th>\n",
       "      <td>Amprion</td>\n",
       "      <td>hydro</td>\n",
       "      <td>0.0</td>\n",
       "      <td>0.0</td>\n",
       "      <td>True</td>\n",
       "      <td>3.000</td>\n",
       "      <td>0.94</td>\n",
       "      <td>90000.0</td>\n",
       "      <td>PQ</td>\n",
       "      <td></td>\n",
       "      <td>...</td>\n",
       "      <td>0</td>\n",
       "      <td>0</td>\n",
       "      <td>1</td>\n",
       "      <td>0</td>\n",
       "      <td>NaN</td>\n",
       "      <td>NaN</td>\n",
       "      <td>1.0</td>\n",
       "      <td>1.0</td>\n",
       "      <td>1.0</td>\n",
       "      <td>0.0</td>\n",
       "    </tr>\n",
       "    <tr>\n",
       "      <th>A_therconventionals</th>\n",
       "      <td>Amprion</td>\n",
       "      <td>fuel</td>\n",
       "      <td>2178.0</td>\n",
       "      <td>800.0</td>\n",
       "      <td>False</td>\n",
       "      <td>35.000</td>\n",
       "      <td>0.30</td>\n",
       "      <td>100000.0</td>\n",
       "      <td>PQ</td>\n",
       "      <td></td>\n",
       "      <td>...</td>\n",
       "      <td>0</td>\n",
       "      <td>0</td>\n",
       "      <td>1</td>\n",
       "      <td>0</td>\n",
       "      <td>NaN</td>\n",
       "      <td>NaN</td>\n",
       "      <td>1.0</td>\n",
       "      <td>1.0</td>\n",
       "      <td>1.0</td>\n",
       "      <td>0.0</td>\n",
       "    </tr>\n",
       "    <tr>\n",
       "      <th>A_otherrenewables</th>\n",
       "      <td>Amprion</td>\n",
       "      <td>fuel</td>\n",
       "      <td>259.0</td>\n",
       "      <td>400.0</td>\n",
       "      <td>False</td>\n",
       "      <td>0.000</td>\n",
       "      <td>0.95</td>\n",
       "      <td>100000.0</td>\n",
       "      <td>PQ</td>\n",
       "      <td></td>\n",
       "      <td>...</td>\n",
       "      <td>0</td>\n",
       "      <td>0</td>\n",
       "      <td>1</td>\n",
       "      <td>0</td>\n",
       "      <td>NaN</td>\n",
       "      <td>NaN</td>\n",
       "      <td>1.0</td>\n",
       "      <td>1.0</td>\n",
       "      <td>1.0</td>\n",
       "      <td>0.0</td>\n",
       "    </tr>\n",
       "    <tr>\n",
       "      <th>A_domesticgas</th>\n",
       "      <td>Amprion</td>\n",
       "      <td>gas</td>\n",
       "      <td>200.0</td>\n",
       "      <td>150.0</td>\n",
       "      <td>False</td>\n",
       "      <td>37.000</td>\n",
       "      <td>0.40</td>\n",
       "      <td>40000.0</td>\n",
       "      <td>PQ</td>\n",
       "      <td></td>\n",
       "      <td>...</td>\n",
       "      <td>0</td>\n",
       "      <td>0</td>\n",
       "      <td>1</td>\n",
       "      <td>0</td>\n",
       "      <td>NaN</td>\n",
       "      <td>NaN</td>\n",
       "      <td>1.0</td>\n",
       "      <td>1.0</td>\n",
       "      <td>1.0</td>\n",
       "      <td>0.0</td>\n",
       "    </tr>\n",
       "    <tr>\n",
       "      <th>A_nuclear</th>\n",
       "      <td>Amprion</td>\n",
       "      <td>reaction</td>\n",
       "      <td>0.0</td>\n",
       "      <td>0.0</td>\n",
       "      <td>False</td>\n",
       "      <td>10.000</td>\n",
       "      <td>0.33</td>\n",
       "      <td>0.0</td>\n",
       "      <td>PQ</td>\n",
       "      <td></td>\n",
       "      <td>...</td>\n",
       "      <td>0</td>\n",
       "      <td>0</td>\n",
       "      <td>1</td>\n",
       "      <td>0</td>\n",
       "      <td>NaN</td>\n",
       "      <td>NaN</td>\n",
       "      <td>1.0</td>\n",
       "      <td>1.0</td>\n",
       "      <td>1.0</td>\n",
       "      <td>0.0</td>\n",
       "    </tr>\n",
       "  </tbody>\n",
       "</table>\n",
       "<p>12 rows × 34 columns</p>\n",
       "</div>"
      ],
      "text/plain": [
       "                         bus    carrier    p_nom  p_nom_max  p_nom_extendable  \\\n",
       "Generator                                                                       \n",
       "A_Biomasse           Amprion    biomass   1507.0      800.0             False   \n",
       "A_Coal               Amprion       coal   7702.0     5300.0             False   \n",
       "A_Lignite            Amprion    lignite  10915.0     3300.0             False   \n",
       "A_Natural gas        Amprion        gas  14824.0    11600.0             False   \n",
       "A_Onshore Wind       Amprion       wind  10554.0    14300.0              True   \n",
       "A_Pumped storage     Amprion      hydro    200.0      300.0              True   \n",
       "A_Solar              Amprion      solar  11067.0    13000.0              True   \n",
       "A_runofriver         Amprion      hydro      0.0        0.0              True   \n",
       "A_therconventionals  Amprion       fuel   2178.0      800.0             False   \n",
       "A_otherrenewables    Amprion       fuel    259.0      400.0             False   \n",
       "A_domesticgas        Amprion        gas    200.0      150.0             False   \n",
       "A_nuclear            Amprion  reaction       0.0        0.0             False   \n",
       "\n",
       "                     marginal_cost  efficiency  capital_cost control type  \\\n",
       "Generator                                                                   \n",
       "A_Biomasse                  75.000        0.40      220900.0      PQ        \n",
       "A_Coal                      33.708        0.30      130000.0      PQ        \n",
       "A_Lignite                   31.960        0.40      190000.0      PQ        \n",
       "A_Natural gas               36.568        0.40       40000.0      PQ        \n",
       "A_Onshore Wind               0.000        1.00      118200.0      PQ        \n",
       "A_Pumped storage             3.000        0.95      200000.0      PQ        \n",
       "A_Solar                      0.000        1.00       60000.0      PQ        \n",
       "A_runofriver                 3.000        0.94       90000.0      PQ        \n",
       "A_therconventionals         35.000        0.30      100000.0      PQ        \n",
       "A_otherrenewables            0.000        0.95      100000.0      PQ        \n",
       "A_domesticgas               37.000        0.40       40000.0      PQ        \n",
       "A_nuclear                   10.000        0.33           0.0      PQ        \n",
       "\n",
       "                     ...  min_up_time  min_down_time  up_time_before  \\\n",
       "Generator            ...                                               \n",
       "A_Biomasse           ...            0              0               1   \n",
       "A_Coal               ...            0              0               1   \n",
       "A_Lignite            ...            0              0               1   \n",
       "A_Natural gas        ...            0              0               1   \n",
       "A_Onshore Wind       ...            0              0               1   \n",
       "A_Pumped storage     ...            0              0               1   \n",
       "A_Solar              ...            0              0               1   \n",
       "A_runofriver         ...            0              0               1   \n",
       "A_therconventionals  ...            0              0               1   \n",
       "A_otherrenewables    ...            0              0               1   \n",
       "A_domesticgas        ...            0              0               1   \n",
       "A_nuclear            ...            0              0               1   \n",
       "\n",
       "                     down_time_before  ramp_limit_up  ramp_limit_down  \\\n",
       "Generator                                                               \n",
       "A_Biomasse                          0            NaN              NaN   \n",
       "A_Coal                              0            NaN              NaN   \n",
       "A_Lignite                           0            NaN              NaN   \n",
       "A_Natural gas                       0            NaN              NaN   \n",
       "A_Onshore Wind                      0            NaN              NaN   \n",
       "A_Pumped storage                    0            NaN              NaN   \n",
       "A_Solar                             0            NaN              NaN   \n",
       "A_runofriver                        0            NaN              NaN   \n",
       "A_therconventionals                 0            NaN              NaN   \n",
       "A_otherrenewables                   0            NaN              NaN   \n",
       "A_domesticgas                       0            NaN              NaN   \n",
       "A_nuclear                           0            NaN              NaN   \n",
       "\n",
       "                     ramp_limit_start_up  ramp_limit_shut_down  weight  \\\n",
       "Generator                                                                \n",
       "A_Biomasse                           1.0                   1.0     1.0   \n",
       "A_Coal                               1.0                   1.0     1.0   \n",
       "A_Lignite                            1.0                   1.0     1.0   \n",
       "A_Natural gas                        1.0                   1.0     1.0   \n",
       "A_Onshore Wind                       1.0                   1.0     1.0   \n",
       "A_Pumped storage                     1.0                   1.0     1.0   \n",
       "A_Solar                              1.0                   1.0     1.0   \n",
       "A_runofriver                         1.0                   1.0     1.0   \n",
       "A_therconventionals                  1.0                   1.0     1.0   \n",
       "A_otherrenewables                    1.0                   1.0     1.0   \n",
       "A_domesticgas                        1.0                   1.0     1.0   \n",
       "A_nuclear                            1.0                   1.0     1.0   \n",
       "\n",
       "                     p_nom_opt  \n",
       "Generator                       \n",
       "A_Biomasse                 0.0  \n",
       "A_Coal                     0.0  \n",
       "A_Lignite                  0.0  \n",
       "A_Natural gas              0.0  \n",
       "A_Onshore Wind             0.0  \n",
       "A_Pumped storage           0.0  \n",
       "A_Solar                    0.0  \n",
       "A_runofriver               0.0  \n",
       "A_therconventionals        0.0  \n",
       "A_otherrenewables          0.0  \n",
       "A_domesticgas              0.0  \n",
       "A_nuclear                  0.0  \n",
       "\n",
       "[12 rows x 34 columns]"
      ]
     },
     "execution_count": 75,
     "metadata": {},
     "output_type": "execute_result"
    }
   ],
   "source": [
    "generators = pd.read_excel(excel_file_path,sheet_name=\"generators\" )\n",
    "\n",
    "network.madd(\n",
    "\"Generator\",\n",
    "    names= generators.generator,\n",
    "    bus=list(generators.bus),\n",
    "    carrier=list(generators.carrier),\n",
    "    p_nom=list(generators.p_nom),      \n",
    "    p_nom_max=list(generators.p_nom_A),     \n",
    "    #p_nom_max=list(generators.p_nom_B),    \n",
    "    #p_nom_max=list(generators.p_nom_C),    \n",
    "    p_nom_extendable=list(generators.p_nom_extandable),\n",
    "    marginal_cost=list(generators.marginal_cost),\n",
    "    efficiency=list(generators.efficiency),\n",
    "    capital_cost=list(generators.capital_cost)\n",
    "    ) \n",
    "\n",
    "network.generators"
   ]
  },
  {
   "cell_type": "code",
   "execution_count": 76,
   "metadata": {},
   "outputs": [],
   "source": [
    "PV_timeseries=pd.read_excel(excel_file_path,sheet_name='PV_timeseries')\n",
    "wind_timeseries=pd.read_excel(excel_file_path,sheet_name='wind_timeseries')"
   ]
  },
  {
   "cell_type": "code",
   "execution_count": 77,
   "metadata": {},
   "outputs": [],
   "source": [
    "network.generators_t.p_max_pu[\"A_Solar\"] = list(PV_timeseries.p_nom_pu_solar_Amprion)\n",
    "network.generators_t.p_max_pu[\"A_Onshore Wind\"] = list(wind_timeseries.p_nom_pu_Amprion)\n",
    "\n"
   ]
  },
  {
   "cell_type": "markdown",
   "metadata": {},
   "source": [
    "### 5)Add load"
   ]
  },
  {
   "cell_type": "markdown",
   "metadata": {},
   "source": [
    "### Added by Parag"
   ]
  },
  {
   "cell_type": "code",
   "execution_count": 78,
   "metadata": {},
   "outputs": [
    {
     "data": {
      "text/plain": [
       "'\\n# Read excel file which contains Non renewable generators data\\ndef add_consumers(filename, index_col):\\n    try:\\n        load = pd.read_(filename,index_col=index_col)\\n    except pd.errors.EmptyDataError:\\n        print(\"The CSV file is empty.\")\\n        return\\n\\n    for load_name in list(load.columns.unique()):\\n        network.add(\"Load\",\\n        f\"{load_name}\",\\n        bus=load_name,\\n        p_set=load[load_name].tolist()\\n        )\\n\\n    return network.loads_t.p_set.head(5)    \\n'"
      ]
     },
     "execution_count": 78,
     "metadata": {},
     "output_type": "execute_result"
    }
   ],
   "source": [
    "'''\n",
    "You can add your all loads in a timeseries in columns and add load using network.add function like mentioned in the following code:\n",
    "To verify whether the timeseries of the load data (p_set) is added properly, use:  `network.loads_t.p_set`  this command\n",
    "'''\n",
    "\n",
    "\"\"\"\n",
    "# Read excel file which contains Non renewable generators data\n",
    "def add_consumers(filename, index_col):\n",
    "    try:\n",
    "        load = pd.read_(filename,index_col=index_col)\n",
    "    except pd.errors.EmptyDataError:\n",
    "        print(\"The CSV file is empty.\")\n",
    "        return\n",
    "\n",
    "    for load_name in list(load.columns.unique()):\n",
    "        network.add(\"Load\",\n",
    "        f\"{load_name}\",\n",
    "        bus=load_name,\n",
    "        p_set=load[load_name].tolist()\n",
    "        )\n",
    "\n",
    "    return network.loads_t.p_set.head(5)    \n",
    "\"\"\""
   ]
  },
  {
   "cell_type": "code",
   "execution_count": 79,
   "metadata": {},
   "outputs": [
    {
     "data": {
      "text/plain": [
       "'Scenario C\\nnetwork.add(\"Load\", \"Amprion\", bus=\"Amprion\", p_set=demand[\"load_C_Amprion\"])\\n'"
      ]
     },
     "execution_count": 79,
     "metadata": {},
     "output_type": "execute_result"
    }
   ],
   "source": [
    "demand = pd.read_excel(excel_file_path,sheet_name=\"load_hourly\" )\n",
    "'''\n",
    "network.add(\"Load\", \"Amprion\", bus=\"Amprion\", p_set=demand[\"Amprion\"])\n",
    "network.add(\"Load\", \"Tennet\", bus=\"Tennet\", p_set=demand[\"TenneT\"])\n",
    "network.add(\"Load\", \"TransnetBW\", bus=\"TransnetBW\", p_set=demand[\"TransnetBW\"])\n",
    "network.add(\"Load\", \"50Hertz\", bus=\"50Hertz\", p_set=demand[\"50Hertz\"])\n",
    "'''\n",
    "#'''Scenario A\n",
    "network.add(\"Load\", \"Amprion\", bus=\"Amprion\", p_set=demand[\"load_A_Amprion\"])\n",
    "#'''\n",
    "\n",
    "'''Scenario B\n",
    "network.add(\"Load\", \"Amprion\", bus=\"Amprion\", p_set=demand[\"load_B_Amprion\"])\n",
    "'''\n",
    "\n",
    "'''Scenario C\n",
    "network.add(\"Load\", \"Amprion\", bus=\"Amprion\", p_set=demand[\"load_C_Amprion\"])\n",
    "'''"
   ]
  },
  {
   "cell_type": "code",
   "execution_count": 80,
   "metadata": {},
   "outputs": [
    {
     "data": {
      "text/plain": [
       "<Axes: xlabel='snapshot', ylabel='MW'>"
      ]
     },
     "execution_count": 80,
     "metadata": {},
     "output_type": "execute_result"
    },
    {
     "data": {
      "image/png": "[encoded data removed]",
      "text/plain": [
       "<Figure size 900x300 with 1 Axes>"
      ]
     },
     "metadata": {},
     "output_type": "display_data"
    }
   ],
   "source": [
    "network.loads_t.p_set.plot(figsize=(9,3), ylabel=\"MW\")"
   ]
  },
  {
   "cell_type": "markdown",
   "metadata": {},
   "source": [
    "### 6)Add Lines"
   ]
  },
  {
   "cell_type": "code",
   "execution_count": 81,
   "metadata": {},
   "outputs": [
    {
     "data": {
      "text/html": [
       "<div>\n",
       "<style scoped>\n",
       "    .dataframe tbody tr th:only-of-type {\n",
       "        vertical-align: middle;\n",
       "    }\n",
       "\n",
       "    .dataframe tbody tr th {\n",
       "        vertical-align: top;\n",
       "    }\n",
       "\n",
       "    .dataframe thead th {\n",
       "        text-align: right;\n",
       "    }\n",
       "</style>\n",
       "<table border=\"1\" class=\"dataframe\">\n",
       "  <thead>\n",
       "    <tr style=\"text-align: right;\">\n",
       "      <th></th>\n",
       "      <th>name</th>\n",
       "      <th>bus0</th>\n",
       "      <th>s_nom</th>\n",
       "      <th>efficiency</th>\n",
       "      <th>s_nom_extendable</th>\n",
       "    </tr>\n",
       "  </thead>\n",
       "  <tbody>\n",
       "    <tr>\n",
       "      <th>0</th>\n",
       "      <td>1</td>\n",
       "      <td>Amprion</td>\n",
       "      <td>10000</td>\n",
       "      <td>1</td>\n",
       "      <td>True</td>\n",
       "    </tr>\n",
       "  </tbody>\n",
       "</table>\n",
       "</div>"
      ],
      "text/plain": [
       "   name     bus0  s_nom  efficiency  s_nom_extendable\n",
       "0     1  Amprion  10000           1              True"
      ]
     },
     "execution_count": 81,
     "metadata": {},
     "output_type": "execute_result"
    }
   ],
   "source": [
    "lines=pd.read_excel(excel_file_path,sheet_name='lines',header=0)\n",
    "lines.head()"
   ]
  },
  {
   "cell_type": "code",
   "execution_count": 82,
   "metadata": {},
   "outputs": [
    {
     "name": "stderr",
     "output_type": "stream",
     "text": [
      "WARNING:pypsa.components:The bus name `` given for bus1 of Line `1` does not appear in network.buses\n"
     ]
    },
    {
     "data": {
      "text/html": [
       "<div>\n",
       "<style scoped>\n",
       "    .dataframe tbody tr th:only-of-type {\n",
       "        vertical-align: middle;\n",
       "    }\n",
       "\n",
       "    .dataframe tbody tr th {\n",
       "        vertical-align: top;\n",
       "    }\n",
       "\n",
       "    .dataframe thead th {\n",
       "        text-align: right;\n",
       "    }\n",
       "</style>\n",
       "<table border=\"1\" class=\"dataframe\">\n",
       "  <thead>\n",
       "    <tr style=\"text-align: right;\">\n",
       "      <th>attribute</th>\n",
       "      <th>bus0</th>\n",
       "      <th>bus1</th>\n",
       "      <th>type</th>\n",
       "      <th>x</th>\n",
       "      <th>r</th>\n",
       "      <th>g</th>\n",
       "      <th>b</th>\n",
       "      <th>s_nom</th>\n",
       "      <th>s_nom_mod</th>\n",
       "      <th>s_nom_extendable</th>\n",
       "      <th>...</th>\n",
       "      <th>v_ang_min</th>\n",
       "      <th>v_ang_max</th>\n",
       "      <th>sub_network</th>\n",
       "      <th>x_pu</th>\n",
       "      <th>r_pu</th>\n",
       "      <th>g_pu</th>\n",
       "      <th>b_pu</th>\n",
       "      <th>x_pu_eff</th>\n",
       "      <th>r_pu_eff</th>\n",
       "      <th>s_nom_opt</th>\n",
       "    </tr>\n",
       "    <tr>\n",
       "      <th>Line</th>\n",
       "      <th></th>\n",
       "      <th></th>\n",
       "      <th></th>\n",
       "      <th></th>\n",
       "      <th></th>\n",
       "      <th></th>\n",
       "      <th></th>\n",
       "      <th></th>\n",
       "      <th></th>\n",
       "      <th></th>\n",
       "      <th></th>\n",
       "      <th></th>\n",
       "      <th></th>\n",
       "      <th></th>\n",
       "      <th></th>\n",
       "      <th></th>\n",
       "      <th></th>\n",
       "      <th></th>\n",
       "      <th></th>\n",
       "      <th></th>\n",
       "      <th></th>\n",
       "    </tr>\n",
       "  </thead>\n",
       "  <tbody>\n",
       "    <tr>\n",
       "      <th>1</th>\n",
       "      <td>Amprion</td>\n",
       "      <td></td>\n",
       "      <td></td>\n",
       "      <td>1.0</td>\n",
       "      <td>0.0</td>\n",
       "      <td>0.0</td>\n",
       "      <td>0.0</td>\n",
       "      <td>10000.0</td>\n",
       "      <td>0.0</td>\n",
       "      <td>True</td>\n",
       "      <td>...</td>\n",
       "      <td>-inf</td>\n",
       "      <td>inf</td>\n",
       "      <td></td>\n",
       "      <td>0.0</td>\n",
       "      <td>0.0</td>\n",
       "      <td>0.0</td>\n",
       "      <td>0.0</td>\n",
       "      <td>0.0</td>\n",
       "      <td>0.0</td>\n",
       "      <td>0.0</td>\n",
       "    </tr>\n",
       "  </tbody>\n",
       "</table>\n",
       "<p>1 rows × 30 columns</p>\n",
       "</div>"
      ],
      "text/plain": [
       "attribute     bus0 bus1 type    x    r    g    b    s_nom  s_nom_mod  \\\n",
       "Line                                                                   \n",
       "1          Amprion            1.0  0.0  0.0  0.0  10000.0        0.0   \n",
       "\n",
       "attribute  s_nom_extendable  ...  v_ang_min  v_ang_max  sub_network  x_pu  \\\n",
       "Line                         ...                                            \n",
       "1                      True  ...       -inf        inf                0.0   \n",
       "\n",
       "attribute  r_pu  g_pu  b_pu x_pu_eff  r_pu_eff  s_nom_opt  \n",
       "Line                                                       \n",
       "1           0.0   0.0   0.0      0.0       0.0        0.0  \n",
       "\n",
       "[1 rows x 30 columns]"
      ]
     },
     "execution_count": 82,
     "metadata": {},
     "output_type": "execute_result"
    }
   ],
   "source": [
    "for X, row in lines.iterrows():\n",
    "    network.add(\"Line\",\n",
    "    name=row['name'],\n",
    "    bus0=row['bus0'],\n",
    "    s_nom=row['s_nom'],\n",
    "    x=row['efficiency'],\n",
    "    s_nom_extendable=row['s_nom_extendable'] \n",
    "    )\n",
    "network.lines"
   ]
  },
  {
   "cell_type": "markdown",
   "metadata": {},
   "source": [
    "### 7)Add links"
   ]
  },
  {
   "cell_type": "markdown",
   "metadata": {},
   "source": [
    "links = pd.read_excel(excel_file_path, sheet_name='links')\n",
    "links.head()"
   ]
  },
  {
   "cell_type": "markdown",
   "metadata": {},
   "source": [
    "for X, row in links.iterrows():\n",
    "    network.add(\"Link\",\n",
    "    name=row['name'],\n",
    "    bus0=row['bus0'],\n",
    "    bus1=row['bus1'],\n",
    "    p_nom=row['p_nom'],\n",
    "    p_nom_extendable=row['p_nom_extendable'],\n",
    "    efficiency=row['efficiency'],\n",
    "    capital_cost=row['capital_cost'] )\n",
    "network.links"
   ]
  },
  {
   "cell_type": "markdown",
   "metadata": {},
   "source": [
    "### 8)Add carriers"
   ]
  },
  {
   "cell_type": "code",
   "execution_count": 83,
   "metadata": {},
   "outputs": [
    {
     "data": {
      "text/html": [
       "<div>\n",
       "<style scoped>\n",
       "    .dataframe tbody tr th:only-of-type {\n",
       "        vertical-align: middle;\n",
       "    }\n",
       "\n",
       "    .dataframe tbody tr th {\n",
       "        vertical-align: top;\n",
       "    }\n",
       "\n",
       "    .dataframe thead th {\n",
       "        text-align: right;\n",
       "    }\n",
       "</style>\n",
       "<table border=\"1\" class=\"dataframe\">\n",
       "  <thead>\n",
       "    <tr style=\"text-align: right;\">\n",
       "      <th></th>\n",
       "      <th>name</th>\n",
       "      <th>co2_emissions</th>\n",
       "    </tr>\n",
       "  </thead>\n",
       "  <tbody>\n",
       "    <tr>\n",
       "      <th>4</th>\n",
       "      <td>hydro</td>\n",
       "      <td>0.000</td>\n",
       "    </tr>\n",
       "    <tr>\n",
       "      <th>5</th>\n",
       "      <td>solar</td>\n",
       "      <td>0.000</td>\n",
       "    </tr>\n",
       "    <tr>\n",
       "      <th>6</th>\n",
       "      <td>biomass</td>\n",
       "      <td>0.000</td>\n",
       "    </tr>\n",
       "    <tr>\n",
       "      <th>7</th>\n",
       "      <td>fuel</td>\n",
       "      <td>0.202</td>\n",
       "    </tr>\n",
       "    <tr>\n",
       "      <th>8</th>\n",
       "      <td>reaction</td>\n",
       "      <td>0.000</td>\n",
       "    </tr>\n",
       "  </tbody>\n",
       "</table>\n",
       "</div>"
      ],
      "text/plain": [
       "       name  co2_emissions\n",
       "4     hydro          0.000\n",
       "5     solar          0.000\n",
       "6   biomass          0.000\n",
       "7      fuel          0.202\n",
       "8  reaction          0.000"
      ]
     },
     "execution_count": 83,
     "metadata": {},
     "output_type": "execute_result"
    }
   ],
   "source": [
    "Carriers = pd.read_excel(excel_file_path,sheet_name=\"co2_emissions\" )\n",
    "Carriers.tail()"
   ]
  },
  {
   "cell_type": "code",
   "execution_count": 84,
   "metadata": {},
   "outputs": [
    {
     "data": {
      "text/html": [
       "<div>\n",
       "<style scoped>\n",
       "    .dataframe tbody tr th:only-of-type {\n",
       "        vertical-align: middle;\n",
       "    }\n",
       "\n",
       "    .dataframe tbody tr th {\n",
       "        vertical-align: top;\n",
       "    }\n",
       "\n",
       "    .dataframe thead th {\n",
       "        text-align: right;\n",
       "    }\n",
       "</style>\n",
       "<table border=\"1\" class=\"dataframe\">\n",
       "  <thead>\n",
       "    <tr style=\"text-align: right;\">\n",
       "      <th>attribute</th>\n",
       "      <th>co2_emissions</th>\n",
       "      <th>color</th>\n",
       "      <th>nice_name</th>\n",
       "      <th>max_growth</th>\n",
       "      <th>max_relative_growth</th>\n",
       "    </tr>\n",
       "    <tr>\n",
       "      <th>Carrier</th>\n",
       "      <th></th>\n",
       "      <th></th>\n",
       "      <th></th>\n",
       "      <th></th>\n",
       "      <th></th>\n",
       "    </tr>\n",
       "  </thead>\n",
       "  <tbody>\n",
       "    <tr>\n",
       "      <th>coal</th>\n",
       "      <td>0.354</td>\n",
       "      <td></td>\n",
       "      <td></td>\n",
       "      <td>inf</td>\n",
       "      <td>0.0</td>\n",
       "    </tr>\n",
       "    <tr>\n",
       "      <th>gas</th>\n",
       "      <td>0.202</td>\n",
       "      <td></td>\n",
       "      <td></td>\n",
       "      <td>inf</td>\n",
       "      <td>0.0</td>\n",
       "    </tr>\n",
       "    <tr>\n",
       "      <th>lignite</th>\n",
       "      <td>0.364</td>\n",
       "      <td></td>\n",
       "      <td></td>\n",
       "      <td>inf</td>\n",
       "      <td>0.0</td>\n",
       "    </tr>\n",
       "    <tr>\n",
       "      <th>wind</th>\n",
       "      <td>0.000</td>\n",
       "      <td></td>\n",
       "      <td></td>\n",
       "      <td>inf</td>\n",
       "      <td>0.0</td>\n",
       "    </tr>\n",
       "    <tr>\n",
       "      <th>hydro</th>\n",
       "      <td>0.000</td>\n",
       "      <td></td>\n",
       "      <td></td>\n",
       "      <td>inf</td>\n",
       "      <td>0.0</td>\n",
       "    </tr>\n",
       "    <tr>\n",
       "      <th>solar</th>\n",
       "      <td>0.000</td>\n",
       "      <td></td>\n",
       "      <td></td>\n",
       "      <td>inf</td>\n",
       "      <td>0.0</td>\n",
       "    </tr>\n",
       "    <tr>\n",
       "      <th>biomass</th>\n",
       "      <td>0.000</td>\n",
       "      <td></td>\n",
       "      <td></td>\n",
       "      <td>inf</td>\n",
       "      <td>0.0</td>\n",
       "    </tr>\n",
       "    <tr>\n",
       "      <th>fuel</th>\n",
       "      <td>0.202</td>\n",
       "      <td></td>\n",
       "      <td></td>\n",
       "      <td>inf</td>\n",
       "      <td>0.0</td>\n",
       "    </tr>\n",
       "    <tr>\n",
       "      <th>reaction</th>\n",
       "      <td>0.000</td>\n",
       "      <td></td>\n",
       "      <td></td>\n",
       "      <td>inf</td>\n",
       "      <td>0.0</td>\n",
       "    </tr>\n",
       "  </tbody>\n",
       "</table>\n",
       "</div>"
      ],
      "text/plain": [
       "attribute  co2_emissions color nice_name  max_growth  max_relative_growth\n",
       "Carrier                                                                  \n",
       "coal               0.354                         inf                  0.0\n",
       "gas                0.202                         inf                  0.0\n",
       "lignite            0.364                         inf                  0.0\n",
       "wind               0.000                         inf                  0.0\n",
       "hydro              0.000                         inf                  0.0\n",
       "solar              0.000                         inf                  0.0\n",
       "biomass            0.000                         inf                  0.0\n",
       "fuel               0.202                         inf                  0.0\n",
       "reaction           0.000                         inf                  0.0"
      ]
     },
     "execution_count": 84,
     "metadata": {},
     "output_type": "execute_result"
    }
   ],
   "source": [
    "for X, row in Carriers.iterrows():\n",
    "    network.add(\n",
    "        \"Carrier\",\n",
    "        name=row['name'],\n",
    "        co2_emissions=row['co2_emissions']\n",
    "    )\n",
    "network.carriers"
   ]
  },
  {
   "cell_type": "code",
   "execution_count": 85,
   "metadata": {},
   "outputs": [],
   "source": [
    "\n",
    "network.add(\"Store\", \"battery storage2\", bus=\"Amprion\", e_cyclic=True, e_nom=10000000.0)\n"
   ]
  },
  {
   "cell_type": "code",
   "execution_count": 86,
   "metadata": {},
   "outputs": [],
   "source": [
    "network.add(\n",
    "    \"StorageUnit\",\n",
    "    \"battery storage2\",\n",
    "    bus=\"Amprion\",\n",
    "    p_nom=100000000,\n",
    "    max_hours=10,  # energy storage in terms of hours at full power\n",
    ")"
   ]
  },
  {
   "cell_type": "markdown",
   "metadata": {},
   "source": [
    "### 9)CO2 emissions"
   ]
  },
  {
   "cell_type": "markdown",
   "metadata": {},
   "source": [
    "network.add(\"GlobalConstraint\", \"co2_limit\", sense=\"<=\", constant=438000000)"
   ]
  },
  {
   "cell_type": "markdown",
   "metadata": {},
   "source": [
    "## RESULTS"
   ]
  },
  {
   "cell_type": "markdown",
   "metadata": {},
   "source": [
    "### 1)Optimize"
   ]
  },
  {
   "cell_type": "code",
   "execution_count": 87,
   "metadata": {},
   "outputs": [
    {
     "name": "stderr",
     "output_type": "stream",
     "text": [
      "WARNING:pypsa.components:The following lines have bus1 which are not defined:\n",
      "Index(['1'], dtype='object', name='Line')\n",
      "WARNING:pypsa.components:The following lines have zero r, which could break the linear load flow:\n",
      "Index(['1'], dtype='object', name='Line')\n",
      "WARNING:pypsa.components:The following lines have bus1 which are not defined:\n",
      "Index(['1'], dtype='object', name='Line')\n",
      "WARNING:pypsa.components:The following lines have zero r, which could break the linear load flow:\n",
      "Index(['1'], dtype='object', name='Line')\n"
     ]
    },
    {
     "ename": "ValueError",
     "evalue": "negative column index found",
     "output_type": "error",
     "traceback": [
      "\u001b[1;31m---------------------------------------------------------------------------\u001b[0m",
      "\u001b[1;31mValueError\u001b[0m                                Traceback (most recent call last)",
      "Cell \u001b[1;32mIn[87], line 1\u001b[0m\n\u001b[1;32m----> 1\u001b[0m \u001b[43mnetwork\u001b[49m\u001b[38;5;241;43m.\u001b[39;49m\u001b[43moptimize\u001b[49m\u001b[43m(\u001b[49m\u001b[43msolver_name\u001b[49m\u001b[38;5;241;43m=\u001b[39;49m\u001b[38;5;124;43m'\u001b[39;49m\u001b[38;5;124;43mglpk\u001b[39;49m\u001b[38;5;124;43m'\u001b[39;49m\u001b[43m)\u001b[49m\n",
      "File \u001b[1;32mc:\\Users\\dell\\.conda\\envs\\pypsa-eur\\Lib\\site-packages\\pypsa\\optimization\\optimize.py:598\u001b[0m, in \u001b[0;36mOptimizationAccessor.__call__\u001b[1;34m(self, *args, **kwargs)\u001b[0m\n\u001b[0;32m    596\u001b[0m \u001b[38;5;129m@wraps\u001b[39m(optimize)\n\u001b[0;32m    597\u001b[0m \u001b[38;5;28;01mdef\u001b[39;00m \u001b[38;5;21m__call__\u001b[39m(\u001b[38;5;28mself\u001b[39m, \u001b[38;5;241m*\u001b[39margs, \u001b[38;5;241m*\u001b[39m\u001b[38;5;241m*\u001b[39mkwargs):\n\u001b[1;32m--> 598\u001b[0m     \u001b[38;5;28;01mreturn\u001b[39;00m \u001b[43moptimize\u001b[49m\u001b[43m(\u001b[49m\u001b[38;5;28;43mself\u001b[39;49m\u001b[38;5;241;43m.\u001b[39;49m\u001b[43m_parent\u001b[49m\u001b[43m,\u001b[49m\u001b[43m \u001b[49m\u001b[38;5;241;43m*\u001b[39;49m\u001b[43margs\u001b[49m\u001b[43m,\u001b[49m\u001b[43m \u001b[49m\u001b[38;5;241;43m*\u001b[39;49m\u001b[38;5;241;43m*\u001b[39;49m\u001b[43mkwargs\u001b[49m\u001b[43m)\u001b[49m\n",
      "File \u001b[1;32mc:\\Users\\dell\\.conda\\envs\\pypsa-eur\\Lib\\site-packages\\pypsa\\optimization\\optimize.py:568\u001b[0m, in \u001b[0;36moptimize\u001b[1;34m(n, snapshots, multi_investment_periods, transmission_losses, linearized_unit_commitment, model_kwargs, extra_functionality, assign_all_duals, solver_name, solver_options, **kwargs)\u001b[0m\n\u001b[0;32m    565\u001b[0m n\u001b[38;5;241m.\u001b[39m_linearized_uc \u001b[38;5;241m=\u001b[39m linearized_unit_commitment\n\u001b[0;32m    567\u001b[0m n\u001b[38;5;241m.\u001b[39mconsistency_check()\n\u001b[1;32m--> 568\u001b[0m m \u001b[38;5;241m=\u001b[39m \u001b[43mcreate_model\u001b[49m\u001b[43m(\u001b[49m\n\u001b[0;32m    569\u001b[0m \u001b[43m    \u001b[49m\u001b[43mn\u001b[49m\u001b[43m,\u001b[49m\n\u001b[0;32m    570\u001b[0m \u001b[43m    \u001b[49m\u001b[43msns\u001b[49m\u001b[43m,\u001b[49m\n\u001b[0;32m    571\u001b[0m \u001b[43m    \u001b[49m\u001b[43mmulti_investment_periods\u001b[49m\u001b[43m,\u001b[49m\n\u001b[0;32m    572\u001b[0m \u001b[43m    \u001b[49m\u001b[43mtransmission_losses\u001b[49m\u001b[43m,\u001b[49m\n\u001b[0;32m    573\u001b[0m \u001b[43m    \u001b[49m\u001b[43mlinearized_unit_commitment\u001b[49m\u001b[43m,\u001b[49m\n\u001b[0;32m    574\u001b[0m \u001b[43m    \u001b[49m\u001b[38;5;241;43m*\u001b[39;49m\u001b[38;5;241;43m*\u001b[39;49m\u001b[43mmodel_kwargs\u001b[49m\u001b[43m,\u001b[49m\n\u001b[0;32m    575\u001b[0m \u001b[43m\u001b[49m\u001b[43m)\u001b[49m\n\u001b[0;32m    576\u001b[0m \u001b[38;5;28;01mif\u001b[39;00m extra_functionality:\n\u001b[0;32m    577\u001b[0m     extra_functionality(n, sns)\n",
      "File \u001b[1;32mc:\\Users\\dell\\.conda\\envs\\pypsa-eur\\Lib\\site-packages\\pypsa\\optimization\\optimize.py:298\u001b[0m, in \u001b[0;36mcreate_model\u001b[1;34m(n, snapshots, multi_investment_periods, transmission_losses, linearized_unit_commitment, **kwargs)\u001b[0m\n\u001b[0;32m    293\u001b[0m \u001b[38;5;28;01melse\u001b[39;00m:\n\u001b[0;32m    294\u001b[0m     define_nodal_balance_constraints(\n\u001b[0;32m    295\u001b[0m         n, sns, transmission_losses\u001b[38;5;241m=\u001b[39mtransmission_losses\n\u001b[0;32m    296\u001b[0m     )\n\u001b[1;32m--> 298\u001b[0m \u001b[43mdefine_kirchhoff_voltage_constraints\u001b[49m\u001b[43m(\u001b[49m\u001b[43mn\u001b[49m\u001b[43m,\u001b[49m\u001b[43m \u001b[49m\u001b[43msns\u001b[49m\u001b[43m)\u001b[49m\n\u001b[0;32m    299\u001b[0m define_storage_unit_constraints(n, sns)\n\u001b[0;32m    300\u001b[0m define_store_constraints(n, sns)\n",
      "File \u001b[1;32mc:\\Users\\dell\\.conda\\envs\\pypsa-eur\\Lib\\site-packages\\pypsa\\optimization\\constraints.py:596\u001b[0m, in \u001b[0;36mdefine_kirchhoff_voltage_constraints\u001b[1;34m(n, sns)\u001b[0m\n\u001b[0;32m    593\u001b[0m periods \u001b[38;5;241m=\u001b[39m sns\u001b[38;5;241m.\u001b[39munique(\u001b[38;5;124m\"\u001b[39m\u001b[38;5;124mperiod\u001b[39m\u001b[38;5;124m\"\u001b[39m) \u001b[38;5;28;01mif\u001b[39;00m n\u001b[38;5;241m.\u001b[39m_multi_invest \u001b[38;5;28;01melse\u001b[39;00m [\u001b[38;5;28;01mNone\u001b[39;00m]\n\u001b[0;32m    595\u001b[0m \u001b[38;5;28;01mfor\u001b[39;00m period \u001b[38;5;129;01min\u001b[39;00m periods:\n\u001b[1;32m--> 596\u001b[0m     \u001b[43mn\u001b[49m\u001b[38;5;241;43m.\u001b[39;49m\u001b[43mdetermine_network_topology\u001b[49m\u001b[43m(\u001b[49m\u001b[43minvestment_period\u001b[49m\u001b[38;5;241;43m=\u001b[39;49m\u001b[43mperiod\u001b[49m\u001b[43m,\u001b[49m\u001b[43m \u001b[49m\u001b[43mskip_isolated_buses\u001b[49m\u001b[38;5;241;43m=\u001b[39;49m\u001b[38;5;28;43;01mTrue\u001b[39;49;00m\u001b[43m)\u001b[49m\n\u001b[0;32m    598\u001b[0m     snapshots \u001b[38;5;241m=\u001b[39m sns \u001b[38;5;28;01mif\u001b[39;00m period \u001b[38;5;129;01mis\u001b[39;00m \u001b[38;5;28;01mNone\u001b[39;00m \u001b[38;5;28;01melse\u001b[39;00m sns[sns\u001b[38;5;241m.\u001b[39mget_loc(period)]\n\u001b[0;32m    600\u001b[0m     exprs \u001b[38;5;241m=\u001b[39m []\n",
      "File \u001b[1;32mc:\\Users\\dell\\.conda\\envs\\pypsa-eur\\Lib\\site-packages\\pypsa\\components.py:1338\u001b[0m, in \u001b[0;36mNetwork.determine_network_topology\u001b[1;34m(self, investment_period, skip_isolated_buses)\u001b[0m\n\u001b[0;32m   1326\u001b[0m \u001b[38;5;28;01mdef\u001b[39;00m \u001b[38;5;21mdetermine_network_topology\u001b[39m(\n\u001b[0;32m   1327\u001b[0m     \u001b[38;5;28mself\u001b[39m, investment_period\u001b[38;5;241m=\u001b[39m\u001b[38;5;28;01mNone\u001b[39;00m, skip_isolated_buses\u001b[38;5;241m=\u001b[39m\u001b[38;5;28;01mFalse\u001b[39;00m\n\u001b[0;32m   1328\u001b[0m ):\n\u001b[0;32m   1329\u001b[0m \u001b[38;5;250m    \u001b[39m\u001b[38;5;124;03m\"\"\"\u001b[39;00m\n\u001b[0;32m   1330\u001b[0m \u001b[38;5;124;03m    Build sub_networks from topology.\u001b[39;00m\n\u001b[0;32m   1331\u001b[0m \n\u001b[1;32m   (...)\u001b[0m\n\u001b[0;32m   1336\u001b[0m \u001b[38;5;124;03m    branches.\u001b[39;00m\n\u001b[0;32m   1337\u001b[0m \u001b[38;5;124;03m    \"\"\"\u001b[39;00m\n\u001b[1;32m-> 1338\u001b[0m     adjacency_matrix \u001b[38;5;241m=\u001b[39m \u001b[38;5;28;43mself\u001b[39;49m\u001b[38;5;241;43m.\u001b[39;49m\u001b[43madjacency_matrix\u001b[49m\u001b[43m(\u001b[49m\n\u001b[0;32m   1339\u001b[0m \u001b[43m        \u001b[49m\u001b[43mbranch_components\u001b[49m\u001b[38;5;241;43m=\u001b[39;49m\u001b[38;5;28;43mself\u001b[39;49m\u001b[38;5;241;43m.\u001b[39;49m\u001b[43mpassive_branch_components\u001b[49m\u001b[43m,\u001b[49m\n\u001b[0;32m   1340\u001b[0m \u001b[43m        \u001b[49m\u001b[43minvestment_period\u001b[49m\u001b[38;5;241;43m=\u001b[39;49m\u001b[43minvestment_period\u001b[49m\u001b[43m,\u001b[49m\n\u001b[0;32m   1341\u001b[0m \u001b[43m    \u001b[49m\u001b[43m)\u001b[49m\n\u001b[0;32m   1342\u001b[0m     n_components, labels \u001b[38;5;241m=\u001b[39m csgraph\u001b[38;5;241m.\u001b[39mconnected_components(\n\u001b[0;32m   1343\u001b[0m         adjacency_matrix, directed\u001b[38;5;241m=\u001b[39m\u001b[38;5;28;01mFalse\u001b[39;00m\n\u001b[0;32m   1344\u001b[0m     )\n\u001b[0;32m   1346\u001b[0m     \u001b[38;5;66;03m# remove all old sub_networks\u001b[39;00m\n",
      "File \u001b[1;32mc:\\Users\\dell\\.conda\\envs\\pypsa-eur\\Lib\\site-packages\\pypsa\\graph.py:161\u001b[0m, in \u001b[0;36madjacency_matrix\u001b[1;34m(network, branch_components, investment_period, busorder, weights)\u001b[0m\n\u001b[0;32m    158\u001b[0m bus1_inds \u001b[38;5;241m=\u001b[39m np\u001b[38;5;241m.\u001b[39mconcatenate(bus1_inds)\n\u001b[0;32m    159\u001b[0m weight_vals \u001b[38;5;241m=\u001b[39m np\u001b[38;5;241m.\u001b[39mconcatenate(weight_vals)\n\u001b[1;32m--> 161\u001b[0m \u001b[38;5;28;01mreturn\u001b[39;00m \u001b[43msp\u001b[49m\u001b[38;5;241;43m.\u001b[39;49m\u001b[43msparse\u001b[49m\u001b[38;5;241;43m.\u001b[39;49m\u001b[43mcoo_matrix\u001b[49m\u001b[43m(\u001b[49m\n\u001b[0;32m    162\u001b[0m \u001b[43m    \u001b[49m\u001b[43m(\u001b[49m\u001b[43mweight_vals\u001b[49m\u001b[43m,\u001b[49m\u001b[43m \u001b[49m\u001b[43m(\u001b[49m\u001b[43mbus0_inds\u001b[49m\u001b[43m,\u001b[49m\u001b[43m \u001b[49m\u001b[43mbus1_inds\u001b[49m\u001b[43m)\u001b[49m\u001b[43m)\u001b[49m\u001b[43m,\u001b[49m\u001b[43m \u001b[49m\u001b[43mshape\u001b[49m\u001b[38;5;241;43m=\u001b[39;49m\u001b[43m(\u001b[49m\u001b[43mno_buses\u001b[49m\u001b[43m,\u001b[49m\u001b[43m \u001b[49m\u001b[43mno_buses\u001b[49m\u001b[43m)\u001b[49m\n\u001b[0;32m    163\u001b[0m \u001b[43m\u001b[49m\u001b[43m)\u001b[49m\n",
      "File \u001b[1;32mc:\\Users\\dell\\.conda\\envs\\pypsa-eur\\Lib\\site-packages\\scipy\\sparse\\_coo.py:99\u001b[0m, in \u001b[0;36m_coo_base.__init__\u001b[1;34m(self, arg1, shape, dtype, copy)\u001b[0m\n\u001b[0;32m     96\u001b[0m \u001b[38;5;28;01mif\u001b[39;00m dtype \u001b[38;5;129;01mis\u001b[39;00m \u001b[38;5;129;01mnot\u001b[39;00m \u001b[38;5;28;01mNone\u001b[39;00m:\n\u001b[0;32m     97\u001b[0m     \u001b[38;5;28mself\u001b[39m\u001b[38;5;241m.\u001b[39mdata \u001b[38;5;241m=\u001b[39m \u001b[38;5;28mself\u001b[39m\u001b[38;5;241m.\u001b[39mdata\u001b[38;5;241m.\u001b[39mastype(dtype, copy\u001b[38;5;241m=\u001b[39m\u001b[38;5;28;01mFalse\u001b[39;00m)\n\u001b[1;32m---> 99\u001b[0m \u001b[38;5;28;43mself\u001b[39;49m\u001b[38;5;241;43m.\u001b[39;49m\u001b[43m_check\u001b[49m\u001b[43m(\u001b[49m\u001b[43m)\u001b[49m\n",
      "File \u001b[1;32mc:\\Users\\dell\\.conda\\envs\\pypsa-eur\\Lib\\site-packages\\scipy\\sparse\\_coo.py:194\u001b[0m, in \u001b[0;36m_coo_base._check\u001b[1;34m(self)\u001b[0m\n\u001b[0;32m    192\u001b[0m     \u001b[38;5;28;01mraise\u001b[39;00m \u001b[38;5;167;01mValueError\u001b[39;00m(\u001b[38;5;124m'\u001b[39m\u001b[38;5;124mnegative row index found\u001b[39m\u001b[38;5;124m'\u001b[39m)\n\u001b[0;32m    193\u001b[0m \u001b[38;5;28;01mif\u001b[39;00m \u001b[38;5;28mself\u001b[39m\u001b[38;5;241m.\u001b[39mcol\u001b[38;5;241m.\u001b[39mmin() \u001b[38;5;241m<\u001b[39m \u001b[38;5;241m0\u001b[39m:\n\u001b[1;32m--> 194\u001b[0m     \u001b[38;5;28;01mraise\u001b[39;00m \u001b[38;5;167;01mValueError\u001b[39;00m(\u001b[38;5;124m'\u001b[39m\u001b[38;5;124mnegative column index found\u001b[39m\u001b[38;5;124m'\u001b[39m)\n",
      "\u001b[1;31mValueError\u001b[0m: negative column index found"
     ]
    }
   ],
   "source": [
    "network.optimize(solver_name='glpk')"
   ]
  },
  {
   "cell_type": "markdown",
   "metadata": {},
   "source": [
    "### 2)Margianl price"
   ]
  },
  {
   "cell_type": "code",
   "execution_count": null,
   "metadata": {},
   "outputs": [],
   "source": [
    "network.buses_t.marginal_price"
   ]
  },
  {
   "cell_type": "code",
   "execution_count": null,
   "metadata": {},
   "outputs": [],
   "source": [
    "network.generators.p_nom_opt.plot.bar(ylabel=\"MW\", figsize=(8, 3))"
   ]
  },
  {
   "cell_type": "code",
   "execution_count": null,
   "metadata": {},
   "outputs": [],
   "source": [
    "network.generators_t.p.sum().plot.bar(ylabel=\"Total generation MW\")"
   ]
  },
  {
   "cell_type": "markdown",
   "metadata": {},
   "source": [
    "### 3)Lines snapshot"
   ]
  },
  {
   "cell_type": "code",
   "execution_count": null,
   "metadata": {},
   "outputs": [],
   "source": [
    "network.lines_t.p0"
   ]
  },
  {
   "cell_type": "markdown",
   "metadata": {},
   "source": [
    "### 4)Gen assign"
   ]
  },
  {
   "cell_type": "code",
   "execution_count": null,
   "metadata": {},
   "outputs": [],
   "source": [
    "gen = network.generators.assign(g=network.generators_t.p.mean()).groupby([\"bus\", \"carrier\"]).g.sum()\n",
    "gen"
   ]
  },
  {
   "cell_type": "markdown",
   "metadata": {},
   "source": [
    "### 5)Flow"
   ]
  },
  {
   "cell_type": "code",
   "execution_count": null,
   "metadata": {},
   "outputs": [],
   "source": [
    "flow = pd.Series(10, index=network.branches().index)\n",
    "flow"
   ]
  },
  {
   "cell_type": "markdown",
   "metadata": {},
   "source": [
    "### 6)Geo. graph"
   ]
  },
  {
   "cell_type": "code",
   "execution_count": null,
   "metadata": {},
   "outputs": [],
   "source": [
    "plot_graph=network.plot(\n",
    "    bus_sizes=gen/20000,\n",
    "    bus_colors={\"biomass\":\"black\",\"coal\":\"blue\",\"gas\":\"pink\",\"hydro\":\"cadetblue\",\"lignite\":\"yellow\",\"solar\":\"orange\",\"wind\":\"midnightblue\"},\n",
    "    margin=1,\n",
    "    line_widths=3,\n",
    "    link_widths=0,\n",
    "    flow=flow,\n",
    "    color_geomap=True,\n",
    "    projection=ccrs.EqualEarth(),\n",
    "    line_colors=network.lines_t.p0.mean().abs(),\n",
    ")\n",
    "plt.colorbar(plot_graph[2], fraction=0.04, pad=0.004, label=\"Flow in MW\")\n",
    "plt.show()"
   ]
  },
  {
   "cell_type": "code",
   "execution_count": null,
   "metadata": {},
   "outputs": [],
   "source": [
    "# Your DataFrame df\n",
    "df = pd.concat(\n",
    "    [\n",
    "        network.generators_t.p.loc[0],\n",
    "        network.links_t.p0.loc[0],\n",
    "        network.loads_t.p.loc[0],\n",
    "    ],\n",
    "    keys=[\"Generators\", \"Links\", \"Line\"],\n",
    "    names=[\"Component\", \"index\"],\n",
    ").reset_index(name=\"Production\")\n",
    "\n",
    "# Plotting using PyPSA\n",
    "fig, ax = plt.subplots(figsize=(50, 10))\n",
    "\n",
    "# Plot generators\n",
    "df_generators = df[df[\"Component\"] == \"Generators\"]\n",
    "ax.bar(df_generators[\"index\"], df_generators[\"Production\"], label=\"Generators\")\n",
    "\n",
    "# Plot links\n",
    "df_links = df[df[\"Component\"] == \"Links\"]\n",
    "ax.bar(df_links[\"index\"], df_links[\"Production\"], label=\"Links\")\n",
    "\n",
    "# Plot loads\n",
    "df_loads = df[df[\"Component\"] == \"Line\"]\n",
    "ax.bar(df_loads[\"index\"], df_loads[\"Production\"], label=\"Line\")\n",
    "\n",
    "# Customize the plot\n",
    "ax.set_xlabel(\"Component\")\n",
    "ax.set_ylabel(\"Production (MW)\")\n",
    "ax.set_title(\"Power Production by Component\")\n",
    "ax.legend()\n",
    "\n",
    "# Show the plot\n",
    "plt.show()\n"
   ]
  },
  {
   "cell_type": "markdown",
   "metadata": {},
   "source": [
    "## ADDITIONAL"
   ]
  },
  {
   "cell_type": "markdown",
   "metadata": {},
   "source": [
    "### -)Storages"
   ]
  },
  {
   "cell_type": "code",
   "execution_count": null,
   "metadata": {},
   "outputs": [],
   "source": [
    "\"\"\"\n",
    "def add_stores(filename, header):\n",
    "    try:\n",
    "        stores = pd.read_csv(filename, header=header)\n",
    "    except pd.errors.EmptyDataError:\n",
    "        print(\"The CSV file is empty.\")\n",
    "        return\n",
    "        \n",
    "    for index, row in stores.iterrows():\n",
    "        network.add(\n",
    "            \"Store\",\n",
    "            name=row['name'],\n",
    "            e_initial=row['e_initial'],\n",
    "            e_nom=row['e_nom'],\n",
    "            marginal_cost=row['marginal_cost'],\n",
    "            bus=row['bus'],\n",
    "            e_cyclic=row['e_cyclic'],\n",
    "            e_nom_extendable=row['e_nom_extendable'],\n",
    "        )\n",
    "    return network.stores\n",
    "\"\"\""
   ]
  },
  {
   "cell_type": "markdown",
   "metadata": {},
   "source": [
    "add_stores('stores.csv',0)"
   ]
  },
  {
   "cell_type": "markdown",
   "metadata": {},
   "source": [
    "### -)Global constraints"
   ]
  },
  {
   "cell_type": "code",
   "execution_count": null,
   "metadata": {},
   "outputs": [],
   "source": []
  },
  {
   "cell_type": "code",
   "execution_count": null,
   "metadata": {},
   "outputs": [],
   "source": [
    "#network.lopf()"
   ]
  }
 ],
 "metadata": {
  "@webio": {
   "lastCommId": null,
   "lastKernelId": null
  },
  "kernelspec": {
   "display_name": "Python 3.11.6 ('PyPSA')",
   "language": "python",
   "name": "python3"
  },
  "language_info": {
   "codemirror_mode": {
    "name": "ipython",
    "version": 3
   },
   "file_extension": ".py",
   "mimetype": "text/x-python",
   "name": "python",
   "nbconvert_exporter": "python",
   "pygments_lexer": "ipython3",
   "version": "3.11.7"
  },
  "vscode": {
   "interpreter": {
    "hash": "9362ac2cf2c17960d79fda7a8ec755c04e96fd0061c81d467f9ff311b94f59c5"
   }
  }
 },
 "nbformat": 4,
 "nbformat_minor": 1
}
